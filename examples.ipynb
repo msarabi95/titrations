{
 "cells": [
  {
   "cell_type": "code",
   "execution_count": 6,
   "metadata": {},
   "outputs": [],
   "source": [
    "#|default_export examples"
   ]
  },
  {
   "cell_type": "code",
   "execution_count": 1,
   "metadata": {},
   "outputs": [],
   "source": [
    "from titrations.basics import *\n",
    "from titrations.titrations2 import *"
   ]
  },
  {
   "cell_type": "markdown",
   "metadata": {},
   "source": [
    "# Beta Blockers"
   ]
  },
  {
   "cell_type": "markdown",
   "metadata": {},
   "source": [
    "## Dosing Ladder"
   ]
  },
  {
   "cell_type": "code",
   "execution_count": 3,
   "metadata": {},
   "outputs": [],
   "source": [
    "#|export\n",
    "\n",
    "metoprolol_succinate = Ingredient(\"metoprolol succinate\")\n",
    "carvedilol = Ingredient(\"carvedilol\")\n",
    "bisoprolol = Ingredient(\"bisoprolol\")\n",
    "\n",
    "beta_blocker_ladder = DosingLadder({\n",
    "    metoprolol_succinate.name: [\n",
    "        Medication(metoprolol_succinate, \"12.5 mg\", \"PO\", \"daily\"),\n",
    "        Medication(metoprolol_succinate, \"25 mg\", \"PO\", \"daily\"),\n",
    "        Medication(metoprolol_succinate, \"50 mg\", \"PO\", \"daily\"),\n",
    "        Medication(metoprolol_succinate, \"100 mg\", \"PO\", \"daily\"),\n",
    "    ],\n",
    "    carvedilol.name: [\n",
    "        Medication(carvedilol, \"3.125 mg\", \"PO\", \"BID\"),\n",
    "        Medication(carvedilol, \"6.25 mg\", \"PO\", \"BID\"),\n",
    "        Medication(carvedilol, \"12.5 mg\", \"PO\", \"BID\"),\n",
    "        Medication(carvedilol, \"25 mg\", \"PO\", \"BID\"),\n",
    "    ],\n",
    "    bisoprolol.name: [\n",
    "        Medication(bisoprolol, \"1.25 mg\", \"PO\", \"BID\"),\n",
    "        Medication(bisoprolol, \"2.5 mg\", \"PO\", \"BID\"),\n",
    "        Medication(bisoprolol, \"5 mg\", \"PO\", \"BID\"),\n",
    "        Medication(bisoprolol, \"10 mg\", \"PO\", \"BID\"),\n",
    "    ]\n",
    "})"
   ]
  },
  {
   "cell_type": "markdown",
   "metadata": {},
   "source": [
    "## Rules"
   ]
  },
  {
   "cell_type": "code",
   "execution_count": 4,
   "metadata": {},
   "outputs": [],
   "source": [
    "#|export\n",
    "no_pacemaker = Rule('has_pacemaker', 'eq', False)\n",
    "\n",
    "hypotension = TitrationLimitingRule('SBP', 'lt', 90)\n",
    "bradycardia = ConditionTitrationLimitingRule('HR' , 'lt', 60, condition=no_pacemaker)\n",
    "decompensation = TitrationLimitingRule('decompensated', 'eq', True)\n",
    "symptoms = TitrationLimitingRule('symptomatic', 'eq', True)\n",
    "av_block = TitrationLimitingRule('av_block', 'eq', True)"
   ]
  },
  {
   "cell_type": "markdown",
   "metadata": {},
   "source": [
    "## Titrator"
   ]
  },
  {
   "cell_type": "code",
   "execution_count": 5,
   "metadata": {},
   "outputs": [],
   "source": [
    "#|export\n",
    "class BetaBlockerTitrator(Titrator):\n",
    "    dosing_ladder = beta_blocker_ladder\n",
    "    rules = [\n",
    "        hypotension,\n",
    "        bradycardia,\n",
    "        decompensation,\n",
    "        symptoms,\n",
    "        av_block,\n",
    "    ]"
   ]
  },
  {
   "cell_type": "markdown",
   "metadata": {},
   "source": [
    "# RAASi"
   ]
  },
  {
   "cell_type": "markdown",
   "metadata": {},
   "source": [
    "## Dosing Ladder"
   ]
  },
  {
   "cell_type": "markdown",
   "metadata": {},
   "source": [
    "## Rules"
   ]
  },
  {
   "cell_type": "markdown",
   "metadata": {},
   "source": [
    "## Titrator"
   ]
  },
  {
   "cell_type": "markdown",
   "metadata": {},
   "source": [
    "# SGLT2i's"
   ]
  },
  {
   "cell_type": "markdown",
   "metadata": {},
   "source": [
    "## Dosing Ladder"
   ]
  },
  {
   "cell_type": "code",
   "execution_count": 3,
   "metadata": {},
   "outputs": [],
   "source": [
    "#|export\n",
    "dapagliflozin = Ingredient(\"dapagliflozin\")\n",
    "empagliflozin = Ingredient(\"empagliflozin\")\n",
    "\n",
    "sglt2i_ladder = DosingLadder({\n",
    "    dapagliflozin.name: [\n",
    "        Medication(dapagliflozin, \"10 mg\", \"PO\", \"daily\"),\n",
    "    ],\n",
    "    empagliflozin.name: [\n",
    "        Medication(empagliflozin, \"12.5 mg\", \"PO\", \"daily\"),\n",
    "    ],\n",
    "})"
   ]
  },
  {
   "cell_type": "markdown",
   "metadata": {},
   "source": [
    "## Rules"
   ]
  },
  {
   "cell_type": "code",
   "execution_count": 4,
   "metadata": {},
   "outputs": [],
   "source": [
    "#|export\n",
    "low_egfr = TitrationLimitingRule('eGFR', 'lt', 30)\n",
    "severe_gu_infxns = ClassLimitingRule('severe_gu_infxns', 'eq', True)\n",
    "has_type_1_diabetes = ClassLimitingRule('has_type_1_diabetes', 'eq', True)\n",
    "has_type_2_diabetes_on_insulin = NonLimitingRule('has_type_2_diabetes_on_insulin', 'eq', True)"
   ]
  },
  {
   "cell_type": "markdown",
   "metadata": {},
   "source": [
    "## Titrator"
   ]
  },
  {
   "cell_type": "code",
   "execution_count": 7,
   "metadata": {},
   "outputs": [],
   "source": [
    "#|export\n",
    "class SGLT2iTitrator(Titrator):\n",
    "    dosing_ladder = sglt2i_ladder\n",
    "    rules = [\n",
    "        low_egfr,\n",
    "        severe_gu_infxns,\n",
    "        has_type_1_diabetes,\n",
    "        has_type_2_diabetes_on_insulin,\n",
    "    ]"
   ]
  },
  {
   "cell_type": "markdown",
   "metadata": {},
   "source": [
    "## Tests"
   ]
  },
  {
   "cell_type": "code",
   "execution_count": 19,
   "metadata": {},
   "outputs": [],
   "source": [
    "p = Patient(eGFR=20, severe_gu_infxns=False,\n",
    "            has_type_1_diabetes=False, has_type_2_diabetes_on_insulin=False,\n",
    "            medications=[Medication(empagliflozin, \"12.5 mg\", \"PO\", \"daily\")])\n",
    "t = SGLT2iTitrator(p)\n",
    "t.evaluate()"
   ]
  },
  {
   "cell_type": "code",
   "execution_count": 20,
   "metadata": {},
   "outputs": [
    {
     "data": {
      "text/plain": [
       "False"
      ]
     },
     "execution_count": 20,
     "metadata": {},
     "output_type": "execute_result"
    }
   ],
   "source": [
    "t.can_advance"
   ]
  },
  {
   "cell_type": "code",
   "execution_count": 22,
   "metadata": {},
   "outputs": [
    {
     "data": {
      "text/plain": [
       "[eGFR lt 30]"
      ]
     },
     "execution_count": 22,
     "metadata": {},
     "output_type": "execute_result"
    }
   ],
   "source": [
    "t.satisfied_rules"
   ]
  },
  {
   "cell_type": "code",
   "execution_count": 21,
   "metadata": {},
   "outputs": [
    {
     "data": {
      "text/plain": [
       "[<titrations.titrations2.StepDown at 0x103e1edd0>,\n",
       " <titrations.titrations2.MarkMaxDose at 0x103e1eb60>,\n",
       " <titrations.titrations2.Continue at 0x103e1eb00>]"
      ]
     },
     "execution_count": 21,
     "metadata": {},
     "output_type": "execute_result"
    }
   ],
   "source": [
    "t.recommended_actions"
   ]
  },
  {
   "cell_type": "markdown",
   "metadata": {},
   "source": [
    "# MRA's"
   ]
  },
  {
   "cell_type": "markdown",
   "metadata": {},
   "source": [
    "## Dosing Ladder"
   ]
  },
  {
   "cell_type": "markdown",
   "metadata": {},
   "source": [
    "## Rules"
   ]
  },
  {
   "cell_type": "markdown",
   "metadata": {},
   "source": [
    "## Titrator"
   ]
  },
  {
   "cell_type": "markdown",
   "metadata": {},
   "source": []
  }
 ],
 "metadata": {
  "kernelspec": {
   "display_name": "base",
   "language": "python",
   "name": "python3"
  },
  "language_info": {
   "codemirror_mode": {
    "name": "ipython",
    "version": 3
   },
   "file_extension": ".py",
   "mimetype": "text/x-python",
   "name": "python",
   "nbconvert_exporter": "python",
   "pygments_lexer": "ipython3",
   "version": "3.10.13"
  }
 },
 "nbformat": 4,
 "nbformat_minor": 2
}
