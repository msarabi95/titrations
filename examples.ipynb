{
 "cells": [
  {
   "cell_type": "code",
   "execution_count": 1,
   "metadata": {},
   "outputs": [],
   "source": [
    "#|default_exp examples"
   ]
  },
  {
   "cell_type": "code",
   "execution_count": 2,
   "metadata": {},
   "outputs": [],
   "source": [
    "#|export\n",
    "from titrations.basics import *\n",
    "from titrations.titrations2 import *"
   ]
  },
  {
   "cell_type": "markdown",
   "metadata": {},
   "source": [
    "# Beta Blockers"
   ]
  },
  {
   "cell_type": "markdown",
   "metadata": {},
   "source": [
    "## Dosing Ladder"
   ]
  },
  {
   "cell_type": "code",
   "execution_count": 3,
   "metadata": {},
   "outputs": [],
   "source": [
    "#|export\n",
    "\n",
    "metoprolol_succinate = Ingredient(\"metoprolol succinate\")\n",
    "carvedilol = Ingredient(\"carvedilol\")\n",
    "bisoprolol = Ingredient(\"bisoprolol\")\n",
    "\n",
    "beta_blocker_ladder = DosingLadder({\n",
    "    metoprolol_succinate.name: [\n",
    "        Medication(metoprolol_succinate, \"12.5 mg\", \"PO\", \"daily\"),\n",
    "        Medication(metoprolol_succinate, \"25 mg\", \"PO\", \"daily\"),\n",
    "        Medication(metoprolol_succinate, \"50 mg\", \"PO\", \"daily\"),\n",
    "        Medication(metoprolol_succinate, \"100 mg\", \"PO\", \"daily\"),\n",
    "    ],\n",
    "    carvedilol.name: [\n",
    "        Medication(carvedilol, \"3.125 mg\", \"PO\", \"BID\"),\n",
    "        Medication(carvedilol, \"6.25 mg\", \"PO\", \"BID\"),\n",
    "        Medication(carvedilol, \"12.5 mg\", \"PO\", \"BID\"),\n",
    "        Medication(carvedilol, \"25 mg\", \"PO\", \"BID\"),\n",
    "    ],\n",
    "    bisoprolol.name: [\n",
    "        Medication(bisoprolol, \"1.25 mg\", \"PO\", \"BID\"),\n",
    "        Medication(bisoprolol, \"2.5 mg\", \"PO\", \"BID\"),\n",
    "        Medication(bisoprolol, \"5 mg\", \"PO\", \"BID\"),\n",
    "        Medication(bisoprolol, \"10 mg\", \"PO\", \"BID\"),\n",
    "    ]\n",
    "})"
   ]
  },
  {
   "cell_type": "markdown",
   "metadata": {},
   "source": [
    "## Rules"
   ]
  },
  {
   "cell_type": "code",
   "execution_count": 4,
   "metadata": {},
   "outputs": [],
   "source": [
    "#|export\n",
    "no_pacemaker = Rule('has_pacemaker', 'eq', False)\n",
    "\n",
    "hypotension = TitrationLimitingRule('SBP', 'lt', 100)\n",
    "bradycardia = ConditionTitrationLimitingRule('HR' , 'lt', 60, condition=no_pacemaker)\n",
    "decompensation = TitrationLimitingRule('decompensated', 'eq', True)\n",
    "symptoms = TitrationLimitingRule('symptomatic', 'eq', True)\n",
    "av_block = TitrationLimitingRule('av_block', 'eq', True)"
   ]
  },
  {
   "cell_type": "markdown",
   "metadata": {},
   "source": [
    "## Titrator"
   ]
  },
  {
   "cell_type": "code",
   "execution_count": 5,
   "metadata": {},
   "outputs": [],
   "source": [
    "#|export\n",
    "class BetaBlockerTitrator(Titrator):\n",
    "    dosing_ladder = beta_blocker_ladder\n",
    "    rules = [\n",
    "        hypotension,\n",
    "        bradycardia,\n",
    "        decompensation,\n",
    "        symptoms,\n",
    "        av_block,\n",
    "    ]"
   ]
  },
  {
   "cell_type": "markdown",
   "metadata": {},
   "source": [
    "# RAASi"
   ]
  },
  {
   "cell_type": "markdown",
   "metadata": {},
   "source": [
    "## Dosing Ladder"
   ]
  },
  {
   "cell_type": "code",
   "execution_count": 6,
   "metadata": {},
   "outputs": [],
   "source": [
    "#|export\n",
    "\n",
    "sacubitril_valsartan = Ingredient(\"sacubitril/valsartan\")\n",
    "lisinopril = Ingredient(\"lisinopril\")\n",
    "losartan = Ingredient(\"losartan\")\n",
    "\n",
    "raasi_ladder = DosingLadder({\n",
    "    sacubitril_valsartan.name: [\n",
    "        # NOTE: the lengths of these subladders are unequal\n",
    "        Medication(sacubitril_valsartan, \"24-26 mg\", \"PO\", \"BID\"),\n",
    "        Medication(sacubitril_valsartan, \"49-51 mg\", \"PO\", \"BID\"),\n",
    "        Medication(sacubitril_valsartan, \"97-103 mg\", \"PO\", \"BID\"),\n",
    "    ],\n",
    "    lisinopril.name: [\n",
    "        Medication(lisinopril, \"5 mg\", \"PO\", \"daily\"),\n",
    "        Medication(lisinopril, \"10 mg\", \"PO\", \"daily\"),\n",
    "        Medication(lisinopril, \"20 mg\", \"PO\", \"daily\"),\n",
    "        Medication(lisinopril, \"40 mg\", \"PO\", \"daily\"),\n",
    "    ],\n",
    "    losartan.name: [\n",
    "        Medication(losartan, \"12.5 mg\", \"PO\", \"daily\"),\n",
    "        Medication(losartan, \"25 mg\", \"PO\", \"daily\"),\n",
    "        Medication(losartan, \"50 mg\", \"PO\", \"daily\"),\n",
    "        Medication(losartan, \"100 mg\", \"PO\", \"daily\"),\n",
    "    ]\n",
    "})"
   ]
  },
  {
   "cell_type": "markdown",
   "metadata": {},
   "source": [
    "## Rules"
   ]
  },
  {
   "cell_type": "code",
   "execution_count": 7,
   "metadata": {},
   "outputs": [
    {
     "data": {
      "text/plain": [
       "symptomatic eq True"
      ]
     },
     "execution_count": 7,
     "metadata": {},
     "output_type": "execute_result"
    }
   ],
   "source": [
    "#|export\n",
    "low_egfr = TitrationLimitingRule('eGFR', 'lt', 30)\n",
    "hyperkalemia = TitrationLimitingRule('K', 'gt', 5)\n",
    "hypotension\n",
    "symptoms\n",
    "# angioedema = ClassLimitingRule()  # TODO"
   ]
  },
  {
   "cell_type": "markdown",
   "metadata": {},
   "source": [
    "## Titrator"
   ]
  },
  {
   "cell_type": "code",
   "execution_count": 8,
   "metadata": {},
   "outputs": [],
   "source": [
    "#|export\n",
    "class RAASiTitrator(Titrator):\n",
    "    dosing_ladder = raasi_ladder\n",
    "    rules = [\n",
    "        low_egfr,\n",
    "        hyperkalemia,\n",
    "        hypotension,\n",
    "        symptoms,\n",
    "        # angioedema,\n",
    "    ]"
   ]
  },
  {
   "cell_type": "markdown",
   "metadata": {},
   "source": [
    "# SGLT2i's"
   ]
  },
  {
   "cell_type": "markdown",
   "metadata": {},
   "source": [
    "## Dosing Ladder"
   ]
  },
  {
   "cell_type": "code",
   "execution_count": 9,
   "metadata": {},
   "outputs": [],
   "source": [
    "#|export\n",
    "dapagliflozin = Ingredient(\"dapagliflozin\")\n",
    "empagliflozin = Ingredient(\"empagliflozin\")\n",
    "\n",
    "sglt2i_ladder = DosingLadder({\n",
    "    dapagliflozin.name: [\n",
    "        Medication(dapagliflozin, \"10 mg\", \"PO\", \"daily\"),\n",
    "    ],\n",
    "    empagliflozin.name: [\n",
    "        Medication(empagliflozin, \"12.5 mg\", \"PO\", \"daily\"),\n",
    "    ],\n",
    "})"
   ]
  },
  {
   "cell_type": "markdown",
   "metadata": {},
   "source": [
    "## Rules"
   ]
  },
  {
   "cell_type": "code",
   "execution_count": 10,
   "metadata": {},
   "outputs": [],
   "source": [
    "#|export\n",
    "low_egfr # this is the same rule as above, this is an example of reusing a rule\n",
    "severe_gu_infxns = ClassLimitingRule('severe_gu_infxns', 'eq', True)\n",
    "has_type_1_diabetes = ClassLimitingRule('has_type_1_diabetes', 'eq', True)\n",
    "has_type_2_diabetes_on_insulin = NonLimitingRule('has_type_2_diabetes_on_insulin', 'eq', True)"
   ]
  },
  {
   "cell_type": "markdown",
   "metadata": {},
   "source": [
    "## Titrator"
   ]
  },
  {
   "cell_type": "code",
   "execution_count": 11,
   "metadata": {},
   "outputs": [],
   "source": [
    "#|export\n",
    "class SGLT2iTitrator(Titrator):\n",
    "    dosing_ladder = sglt2i_ladder\n",
    "    rules = [\n",
    "        low_egfr,\n",
    "        severe_gu_infxns,\n",
    "        has_type_1_diabetes,\n",
    "        has_type_2_diabetes_on_insulin,\n",
    "    ]"
   ]
  },
  {
   "cell_type": "markdown",
   "metadata": {},
   "source": [
    "## Tests"
   ]
  },
  {
   "cell_type": "code",
   "execution_count": 12,
   "metadata": {},
   "outputs": [],
   "source": [
    "p = Patient(eGFR=20, severe_gu_infxns=False,\n",
    "            has_type_1_diabetes=False, has_type_2_diabetes_on_insulin=False,\n",
    "            medications=[Medication(empagliflozin, \"12.5 mg\", \"PO\", \"daily\")])\n",
    "t = SGLT2iTitrator(p)\n",
    "t.evaluate()"
   ]
  },
  {
   "cell_type": "code",
   "execution_count": 13,
   "metadata": {},
   "outputs": [
    {
     "data": {
      "text/plain": [
       "False"
      ]
     },
     "execution_count": 13,
     "metadata": {},
     "output_type": "execute_result"
    }
   ],
   "source": [
    "t.can_advance"
   ]
  },
  {
   "cell_type": "code",
   "execution_count": 14,
   "metadata": {},
   "outputs": [
    {
     "data": {
      "text/plain": [
       "[eGFR lt 30]"
      ]
     },
     "execution_count": 14,
     "metadata": {},
     "output_type": "execute_result"
    }
   ],
   "source": [
    "t.satisfied_rules"
   ]
  },
  {
   "cell_type": "code",
   "execution_count": 15,
   "metadata": {},
   "outputs": [
    {
     "data": {
      "text/plain": [
       "[<titrations.titrations2.StepDown at 0x108492860>,\n",
       " <titrations.titrations2.MarkMaxDose at 0x108491840>,\n",
       " <titrations.titrations2.Continue at 0x1084932b0>]"
      ]
     },
     "execution_count": 15,
     "metadata": {},
     "output_type": "execute_result"
    }
   ],
   "source": [
    "t.recommended_actions"
   ]
  },
  {
   "cell_type": "markdown",
   "metadata": {},
   "source": [
    "# MRA's"
   ]
  },
  {
   "cell_type": "markdown",
   "metadata": {},
   "source": [
    "## Dosing Ladder"
   ]
  },
  {
   "cell_type": "code",
   "execution_count": 16,
   "metadata": {},
   "outputs": [],
   "source": [
    "#|export\n",
    "\n",
    "spironolactone = Ingredient(\"spironolactone\")\n",
    "eplerenone = Ingredient(\"eplerenone\")\n",
    "\n",
    "mra_ladder = DosingLadder({\n",
    "    spironolactone.name: [\n",
    "        Medication(spironolactone, \"12.5 mg\", \"PO\", \"daily\"),\n",
    "        Medication(spironolactone, \"25 mg\", \"PO\", \"daily\"),\n",
    "    ],\n",
    "    eplerenone.name: [\n",
    "        Medication(eplerenone, \"12.5 mg\", \"PO\", \"daily\"),\n",
    "        Medication(eplerenone, \"25 mg\", \"PO\", \"daily\"),\n",
    "    ],\n",
    "})"
   ]
  },
  {
   "cell_type": "markdown",
   "metadata": {},
   "source": [
    "## Rules"
   ]
  },
  {
   "cell_type": "code",
   "execution_count": 17,
   "metadata": {},
   "outputs": [
    {
     "data": {
      "text/plain": [
       "K gt 5"
      ]
     },
     "execution_count": 17,
     "metadata": {},
     "output_type": "execute_result"
    }
   ],
   "source": [
    "low_egfr # this is the same rule as above, this is an example of reusing a rule\n",
    "hyperkalemia # this is the same rule as above, this is an example of reusing a rule\n",
    "# on_potassium_supp = NonLimitingRule('on_potassium_supp', 'eq', True)\n",
    "# spiro_side_effects = NonLimitingRule('spiro_side_effects', 'eq', True)"
   ]
  },
  {
   "cell_type": "markdown",
   "metadata": {},
   "source": [
    "## Titrator"
   ]
  },
  {
   "cell_type": "code",
   "execution_count": 18,
   "metadata": {},
   "outputs": [],
   "source": [
    "#|export\n",
    "class MRATitrator(Titrator):\n",
    "    dosing_ladder = mra_ladder\n",
    "    rules = [\n",
    "        low_egfr,\n",
    "        hyperkalemia,\n",
    "        # TODO\n",
    "    ]"
   ]
  },
  {
   "cell_type": "markdown",
   "metadata": {},
   "source": [
    "# Export"
   ]
  },
  {
   "cell_type": "code",
   "execution_count": 20,
   "metadata": {},
   "outputs": [],
   "source": [
    "# from nbdev.export import nb_export\n",
    "\n",
    "# nb_export('examples.ipynb')"
   ]
  }
 ],
 "metadata": {
  "kernelspec": {
   "display_name": "base",
   "language": "python",
   "name": "python3"
  },
  "language_info": {
   "codemirror_mode": {
    "name": "ipython",
    "version": 3
   },
   "file_extension": ".py",
   "mimetype": "text/x-python",
   "name": "python",
   "nbconvert_exporter": "python",
   "pygments_lexer": "ipython3",
   "version": "3.10.13"
  }
 },
 "nbformat": 4,
 "nbformat_minor": 2
}
