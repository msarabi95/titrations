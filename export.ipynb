{
 "cells": [
  {
   "cell_type": "code",
   "execution_count": 8,
   "metadata": {},
   "outputs": [],
   "source": [
    "from nbdev.export import nb_export\n",
    "\n",
    "nb_export(\"basics.ipynb\")\n",
    "nb_export('titrations2.ipynb')\n",
    "\n",
    "nb_export('conditions/hfref.ipynb')\n",
    "nb_export('conditions/asthma.ipynb')\n",
    "nb_export('conditions/copd.ipynb')\n",
    "nb_export('conditions/diabetes.ipynb')\n",
    "nb_export('conditions/hypertension.ipynb')\n",
    "nb_export('conditions/hyperlipidemia.ipynb')"
   ]
  },
  {
   "cell_type": "code",
   "execution_count": null,
   "metadata": {},
   "outputs": [],
   "source": []
  }
 ],
 "metadata": {
  "kernelspec": {
   "display_name": "base",
   "language": "python",
   "name": "python3"
  },
  "language_info": {
   "codemirror_mode": {
    "name": "ipython",
    "version": 3
   },
   "file_extension": ".py",
   "mimetype": "text/x-python",
   "name": "python",
   "nbconvert_exporter": "python",
   "pygments_lexer": "ipython3",
   "version": "3.10.13"
  }
 },
 "nbformat": 4,
 "nbformat_minor": 2
}
