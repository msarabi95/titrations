{
 "cells": [
  {
   "cell_type": "code",
   "execution_count": 3,
   "metadata": {},
   "outputs": [],
   "source": [
    "#|default_exp basics"
   ]
  },
  {
   "cell_type": "code",
   "execution_count": 1,
   "metadata": {},
   "outputs": [],
   "source": [
    "#|export\n",
    "from typing import List, Dict"
   ]
  },
  {
   "cell_type": "code",
   "execution_count": 1,
   "metadata": {},
   "outputs": [],
   "source": [
    "#|export\n",
    "VALID_PARAMETERS = [\n",
    "    'SBP', 'HR', 'K', 'Cr', 'eGFR',\n",
    "    'decompensated', 'symptomatic', 'has_pacemaker', 'av_block',\n",
    "    'severe_gu_infxns', 'has_type_1_diabetes', 'has_type_2_diabetes_on_insulin',\n",
    "    ]"
   ]
  },
  {
   "cell_type": "code",
   "execution_count": null,
   "metadata": {},
   "outputs": [],
   "source": [
    "#|export\n",
    "class Ingredient:\n",
    "    def __init__(self, name:str):\n",
    "        self.name = name\n",
    "\n",
    "class Medication:\n",
    "    def __init__(self, ingredient:Ingredient, dose:str, route:str, frequency:str):\n",
    "        self.ingredient = ingredient\n",
    "        self.dose = dose\n",
    "        self.route = route\n",
    "        self.frequency = frequency\n",
    "\n",
    "    @property\n",
    "    def name(self):\n",
    "        return self.ingredient.name\n",
    "\n",
    "    def __repr__(self) -> str:\n",
    "        return f\"{self.name} {self.dose} {self.route} {self.frequency}\""
   ]
  },
  {
   "cell_type": "code",
   "execution_count": null,
   "metadata": {},
   "outputs": [],
   "source": [
    "#|export\n",
    "class Reaction:\n",
    "    \"\"\"\n",
    "    A listing of an adverse medication reaction or allergy.\n",
    "    \"\"\"\n",
    "    def __init__(self, ingredient: Ingredient, description: str):\n",
    "        self.ingredient = ingredient\n",
    "        self.description = description"
   ]
  },
  {
   "cell_type": "code",
   "execution_count": null,
   "metadata": {},
   "outputs": [],
   "source": [
    "#|export\n",
    "class Patient:\n",
    "    def __init__(self, \n",
    "                 medications : List[Medication] = [],\n",
    "                 reactions : List[Reaction] = [],\n",
    "                 max_tolerated : Dict[str, Medication] = [],\n",
    "                 **kwargs\n",
    "                 ):\n",
    "        self.medications = medications\n",
    "        self.reactions = reactions\n",
    "        self.max_tolerated = max_tolerated\n",
    "        for arg in kwargs:\n",
    "            assert arg in VALID_PARAMETERS, \"Not a valid parameter\"\n",
    "            setattr(self, arg, kwargs[arg])\n",
    "\n",
    "    def on_medication(self, ingredient : Ingredient, dose : str = None):\n",
    "        # TODO: optionally check for dose, route, and frequency\n",
    "        med_names = [med.name for med in self.medications]\n",
    "        return ingredient.name in med_names\n",
    "    \n",
    "    def current_dose_of(self, ingredient : Ingredient):\n",
    "        filtered = list(filter(lambda med: med.name == ingredient.name, self.medications))\n",
    "        assert len(filtered) <= 1\n",
    "        return filtered[0] if filtered else None\n",
    "\n",
    "    def has_reaction_to(self, ingredient : Ingredient):\n",
    "        meds_w_reactions = [reaction.ingredient.name for reaction in self.reactions]\n",
    "        return ingredient.name in meds_w_reactions"
   ]
  },
  {
   "cell_type": "code",
   "execution_count": 1,
   "metadata": {},
   "outputs": [],
   "source": [
    "from nbdev.export import nb_export\n",
    "\n",
    "nb_export(\"basics.ipynb\")"
   ]
  },
  {
   "cell_type": "code",
   "execution_count": null,
   "metadata": {},
   "outputs": [],
   "source": []
  }
 ],
 "metadata": {
  "kernelspec": {
   "display_name": "base",
   "language": "python",
   "name": "python3"
  },
  "language_info": {
   "codemirror_mode": {
    "name": "ipython",
    "version": 3
   },
   "file_extension": ".py",
   "mimetype": "text/x-python",
   "name": "python",
   "nbconvert_exporter": "python",
   "pygments_lexer": "ipython3",
   "version": "3.10.13"
  }
 },
 "nbformat": 4,
 "nbformat_minor": 2
}
