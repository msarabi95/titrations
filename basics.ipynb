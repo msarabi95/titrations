{
 "cells": [
  {
   "cell_type": "code",
   "execution_count": 9,
   "metadata": {},
   "outputs": [],
   "source": [
    "#|default_exp basics"
   ]
  },
  {
   "cell_type": "code",
   "execution_count": 10,
   "metadata": {},
   "outputs": [],
   "source": [
    "#|export\n",
    "from typing import List, Dict, Optional"
   ]
  },
  {
   "cell_type": "code",
   "execution_count": 11,
   "metadata": {},
   "outputs": [],
   "source": [
    "#|export\n",
    "VALID_PARAMETERS = [\n",
    "    'SBP', 'HR', 'K', 'Cr', 'eGFR',\n",
    "    'decompensated', 'symptomatic', 'has_pacemaker', 'av_block',\n",
    "    'severe_gu_infxns', 'has_type_1_diabetes', 'has_type_2_diabetes_on_insulin',\n",
    "    ]"
   ]
  },
  {
   "cell_type": "code",
   "execution_count": 12,
   "metadata": {},
   "outputs": [],
   "source": [
    "#|export\n",
    "class MedicationClass:\n",
    "    \"\"\"A medication class\"\"\"\n",
    "    def __init__(self, name:str):\n",
    "        self.name = name\n",
    "\n",
    "class Ingredient:\n",
    "    def __init__(self, name:str, med_class : Optional[MedicationClass] = None):  # TODO: modify to make med_class required\n",
    "        self.name = name\n",
    "        self.med_class = med_class\n",
    "\n",
    "class Medication:\n",
    "    def __init__(self, ingredient:Ingredient, dose:str, route:str, frequency:str):\n",
    "        self.ingredient = ingredient\n",
    "        self.dose = dose\n",
    "        self.route = route\n",
    "        self.frequency = frequency\n",
    "\n",
    "    @property\n",
    "    def name(self):\n",
    "        return self.ingredient.name\n",
    "    \n",
    "    @property\n",
    "    def med_class(self):\n",
    "        return self.ingredient.med_class\n",
    "\n",
    "    def __repr__(self) -> str:\n",
    "        return f\"{self.name} {self.dose} {self.route} {self.frequency}\""
   ]
  },
  {
   "cell_type": "code",
   "execution_count": 13,
   "metadata": {},
   "outputs": [],
   "source": [
    "#|export\n",
    "class Reaction:\n",
    "    \"\"\"\n",
    "    A listing of an adverse medication reaction or allergy.\n",
    "    \"\"\"\n",
    "    def __init__(self, ingredient: Ingredient, description: str):\n",
    "        self.ingredient = ingredient\n",
    "        self.description = description"
   ]
  },
  {
   "cell_type": "code",
   "execution_count": 14,
   "metadata": {},
   "outputs": [],
   "source": [
    "#|export\n",
    "class Patient:\n",
    "    def __init__(self, \n",
    "                 medications : List[Medication] = [],\n",
    "                 reactions : List[Reaction] = [],\n",
    "                 max_tolerated : Dict[str, Medication] = [],\n",
    "                 **kwargs\n",
    "                 ):\n",
    "        self.medications = medications\n",
    "        self.reactions = reactions\n",
    "        self.max_tolerated = max_tolerated\n",
    "        for arg in kwargs:\n",
    "            assert arg in VALID_PARAMETERS, \"Not a valid parameter\"\n",
    "            setattr(self, arg, kwargs[arg])\n",
    "\n",
    "    def on_medication(self, ingredient : Ingredient, dose : str = None):\n",
    "        # TODO: optionally check for dose, route, and frequency\n",
    "        med_names = [med.name for med in self.medications]\n",
    "        return ingredient.name in med_names\n",
    "    \n",
    "    @property\n",
    "    def current_medication_names(self):\n",
    "        return [med.name for med in self.medications]\n",
    "    \n",
    "    @property\n",
    "    def current_med_class_names(self):\n",
    "        return [med.med_class.name for med in self.medications if med.med_class]  # TODO: modify after med_class is made mandatory\n",
    "    \n",
    "    def current_dose_of(self, ingredient : Ingredient):\n",
    "        filtered = list(filter(lambda med: med.name == ingredient.name, self.medications))\n",
    "        assert len(filtered) <= 1\n",
    "        return filtered[0] if filtered else None\n",
    "\n",
    "    def has_reaction_to(self, ingredient : Ingredient):\n",
    "        meds_w_reactions = [reaction.ingredient.name for reaction in self.reactions]\n",
    "        return ingredient.name in meds_w_reactions"
   ]
  },
  {
   "cell_type": "code",
   "execution_count": 15,
   "metadata": {},
   "outputs": [
    {
     "name": "stdout",
     "output_type": "stream",
     "text": [
      "['Ibuprofen', 'Paracetamol', 'Loratadine']\n"
     ]
    }
   ],
   "source": [
    "# Create an example Patient object\n",
    "patient = Patient()\n",
    "\n",
    "# Add some medications to the patient\n",
    "medication1 = Medication(Ingredient(\"Ibuprofen\"), \"200mg\", \"Oral\", \"Once daily\")\n",
    "medication2 = Medication(Ingredient(\"Paracetamol\"), \"500mg\", \"Oral\", \"Twice daily\")\n",
    "medication3 = Medication(Ingredient(\"Loratadine\"), \"10mg\", \"Oral\", \"Once daily\")\n",
    "\n",
    "patient.medications = [medication1, medication2, medication3]\n",
    "\n",
    "# Print the current medication names\n",
    "print(patient.current_medication_names)\n"
   ]
  },
  {
   "cell_type": "code",
   "execution_count": 19,
   "metadata": {},
   "outputs": [],
   "source": [
    "from nbdev.export import nb_export\n",
    "\n",
    "nb_export(\"basics.ipynb\")"
   ]
  }
 ],
 "metadata": {
  "kernelspec": {
   "display_name": "base",
   "language": "python",
   "name": "python3"
  },
  "language_info": {
   "codemirror_mode": {
    "name": "ipython",
    "version": 3
   },
   "file_extension": ".py",
   "mimetype": "text/x-python",
   "name": "python",
   "nbconvert_exporter": "python",
   "pygments_lexer": "ipython3",
   "version": "3.10.13"
  }
 },
 "nbformat": 4,
 "nbformat_minor": 2
}
