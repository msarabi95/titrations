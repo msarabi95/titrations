{
 "cells": [
  {
   "cell_type": "code",
   "execution_count": 3,
   "metadata": {},
   "outputs": [],
   "source": [
    "from titrations.basics import *\n",
    "from titrations.titrations2 import *\n",
    "from titrations.examples import *"
   ]
  },
  {
   "cell_type": "markdown",
   "metadata": {},
   "source": [
    "# Generic Titrations Demo\n",
    "This prototype consists of 3 modules:\n",
    "1. `basics` consists of functionalities that are expected in an EHR. In a real-life application, an actual EHR API takes place of this.\n",
    "2. `titrations` has the main elements of the applications, which will be covered below.\n",
    "3. `examples` includes read-to-use examples of the concepts defined in `titrations`."
   ]
  },
  {
   "cell_type": "markdown",
   "metadata": {},
   "source": [
    "The basic premise of this prototype is that creating a medication titration algorithm should only require defining a few simple building blocks. There are three types of building blocks in this app: `DosingLadder`, `Rule`, and `Action`."
   ]
  },
  {
   "cell_type": "markdown",
   "metadata": {},
   "source": [
    "## Dosing Ladder"
   ]
  },
  {
   "cell_type": "markdown",
   "metadata": {},
   "source": [
    "A `DosingLadder` is simply a group of ordered list of medication doses. Each `DosingLadder` contains all the possible doses within a certain medication class (eg, beta blockers). The following is an example of a `DosingLadder`."
   ]
  },
  {
   "cell_type": "code",
   "execution_count": 7,
   "metadata": {},
   "outputs": [],
   "source": [
    "beta_blocker_ladder = DosingLadder({\n",
    "    \"metoprolol succinate\": [\n",
    "        Medication(metoprolol_succinate, \"12.5 mg\", \"PO\", \"daily\"),\n",
    "        Medication(metoprolol_succinate, \"25 mg\", \"PO\", \"daily\"),\n",
    "        Medication(metoprolol_succinate, \"50 mg\", \"PO\", \"daily\"),\n",
    "        Medication(metoprolol_succinate, \"100 mg\", \"PO\", \"daily\"),\n",
    "    ],\n",
    "    \"carvedilol\": [\n",
    "        Medication(carvedilol, \"3.125 mg\", \"PO\", \"BID\"),\n",
    "        Medication(carvedilol, \"6.25 mg\", \"PO\", \"BID\"),\n",
    "        Medication(carvedilol, \"12.5 mg\", \"PO\", \"BID\"),\n",
    "        Medication(carvedilol, \"25 mg\", \"PO\", \"BID\"),\n",
    "    ],\n",
    "    \"bisoprolol\": [\n",
    "        Medication(bisoprolol, \"1.25 mg\", \"PO\", \"BID\"),\n",
    "        Medication(bisoprolol, \"2.5 mg\", \"PO\", \"BID\"),\n",
    "        Medication(bisoprolol, \"5 mg\", \"PO\", \"BID\"),\n",
    "        Medication(bisoprolol, \"10 mg\", \"PO\", \"BID\"),\n",
    "    ]\n",
    "})"
   ]
  },
  {
   "cell_type": "markdown",
   "metadata": {},
   "source": [
    "Provided the information above, a `DosingLadder` can do a few useful things such as suggest the starting doses for this class of medication:"
   ]
  },
  {
   "cell_type": "code",
   "execution_count": 5,
   "metadata": {},
   "outputs": [
    {
     "data": {
      "text/plain": [
       "{'metoprolol_succinate': metoprolol succinate 12.5 mg PO daily,\n",
       " 'carvedilol': carvedilol 3.125 mg PO BID,\n",
       " 'bisoprolol': bisoprolol 1.25 mg PO BID}"
      ]
     },
     "execution_count": 5,
     "metadata": {},
     "output_type": "execute_result"
    }
   ],
   "source": [
    "beta_blocker_ladder.lowest_steps"
   ]
  },
  {
   "cell_type": "markdown",
   "metadata": {},
   "source": [
    "... or given a specific dose, suggest the next step up the dosing ladder:"
   ]
  },
  {
   "cell_type": "code",
   "execution_count": 11,
   "metadata": {},
   "outputs": [
    {
     "data": {
      "text/plain": [
       "metoprolol succinate 50 mg PO daily"
      ]
     },
     "execution_count": 11,
     "metadata": {},
     "output_type": "execute_result"
    }
   ],
   "source": [
    "beta_blocker_ladder.get_next_step_up(Medication(metoprolol_succinate, \"25 mg\", \"PO\", \"daily\"))"
   ]
  },
  {
   "cell_type": "markdown",
   "metadata": {},
   "source": [
    "## Rule"
   ]
  },
  {
   "cell_type": "code",
   "execution_count": null,
   "metadata": {},
   "outputs": [],
   "source": []
  },
  {
   "cell_type": "markdown",
   "metadata": {},
   "source": [
    "## Action"
   ]
  },
  {
   "cell_type": "code",
   "execution_count": null,
   "metadata": {},
   "outputs": [],
   "source": []
  },
  {
   "cell_type": "markdown",
   "metadata": {},
   "source": [
    "## Rule With Actions"
   ]
  },
  {
   "cell_type": "code",
   "execution_count": null,
   "metadata": {},
   "outputs": [],
   "source": []
  },
  {
   "cell_type": "markdown",
   "metadata": {},
   "source": [
    "## Titrator"
   ]
  },
  {
   "cell_type": "code",
   "execution_count": null,
   "metadata": {},
   "outputs": [],
   "source": []
  },
  {
   "cell_type": "markdown",
   "metadata": {},
   "source": [
    "## Full Example"
   ]
  },
  {
   "cell_type": "code",
   "execution_count": null,
   "metadata": {},
   "outputs": [],
   "source": []
  }
 ],
 "metadata": {
  "kernelspec": {
   "display_name": "base",
   "language": "python",
   "name": "python3"
  },
  "language_info": {
   "codemirror_mode": {
    "name": "ipython",
    "version": 3
   },
   "file_extension": ".py",
   "mimetype": "text/x-python",
   "name": "python",
   "nbconvert_exporter": "python",
   "pygments_lexer": "ipython3",
   "version": "3.10.13"
  }
 },
 "nbformat": 4,
 "nbformat_minor": 2
}
