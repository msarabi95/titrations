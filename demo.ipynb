{
 "cells": [
  {
   "cell_type": "code",
   "execution_count": 1,
   "metadata": {},
   "outputs": [],
   "source": [
    "from titrations.basics import *\n",
    "from titrations.titrations2 import *\n",
    "from titrations.examples import *"
   ]
  },
  {
   "cell_type": "markdown",
   "metadata": {},
   "source": [
    "# Generic Titrations Demo\n",
    "This is a low-level data structure example that could be the basis for a RESTful API.\n",
    "\n",
    "This prototype consists of 3 modules:\n",
    "1. `basics` consists of functionalities that are expected in an EHR. In a real-life application, an actual EHR API takes place of this.\n",
    "2. `titrations` has the main elements of the applications, which will be covered below.\n",
    "3. `examples` includes read-to-use examples of the concepts defined in `titrations`."
   ]
  },
  {
   "cell_type": "markdown",
   "metadata": {},
   "source": [
    "The basic premise of this prototype is that creating a medication titration algorithm should only require defining a few simple building blocks. There are three types of building blocks in this app: `DosingLadder`, `Rule`, and `Action`."
   ]
  },
  {
   "cell_type": "markdown",
   "metadata": {},
   "source": [
    "## Dosing Ladder"
   ]
  },
  {
   "cell_type": "markdown",
   "metadata": {},
   "source": [
    "A `DosingLadder` is simply a group of ordered list of medication doses. Each `DosingLadder` contains all the possible doses within a certain medication class (eg, beta blockers). The following is an example of a `DosingLadder`."
   ]
  },
  {
   "cell_type": "code",
   "execution_count": 2,
   "metadata": {},
   "outputs": [],
   "source": [
    "beta_blocker_ladder = DosingLadder({\n",
    "    \"metoprolol succinate\": [\n",
    "        Medication(metoprolol_succinate, \"12.5 mg\", \"PO\", \"daily\"),\n",
    "        Medication(metoprolol_succinate, \"25 mg\", \"PO\", \"daily\"),\n",
    "        Medication(metoprolol_succinate, \"50 mg\", \"PO\", \"daily\"),\n",
    "        Medication(metoprolol_succinate, \"100 mg\", \"PO\", \"daily\"),\n",
    "    ],\n",
    "    \"carvedilol\": [\n",
    "        Medication(carvedilol, \"3.125 mg\", \"PO\", \"BID\"),\n",
    "        Medication(carvedilol, \"6.25 mg\", \"PO\", \"BID\"),\n",
    "        Medication(carvedilol, \"12.5 mg\", \"PO\", \"BID\"),\n",
    "        Medication(carvedilol, \"25 mg\", \"PO\", \"BID\"),\n",
    "    ],\n",
    "    \"bisoprolol\": [\n",
    "        Medication(bisoprolol, \"1.25 mg\", \"PO\", \"BID\"),\n",
    "        Medication(bisoprolol, \"2.5 mg\", \"PO\", \"BID\"),\n",
    "        Medication(bisoprolol, \"5 mg\", \"PO\", \"BID\"),\n",
    "        Medication(bisoprolol, \"10 mg\", \"PO\", \"BID\"),\n",
    "    ]\n",
    "})"
   ]
  },
  {
   "cell_type": "markdown",
   "metadata": {},
   "source": [
    "Provided the information above, a `DosingLadder` can do a few useful things such as suggest the starting doses for this class of medication:"
   ]
  },
  {
   "cell_type": "code",
   "execution_count": 3,
   "metadata": {},
   "outputs": [
    {
     "data": {
      "text/plain": [
       "{'metoprolol succinate': metoprolol succinate 12.5 mg PO daily,\n",
       " 'carvedilol': carvedilol 3.125 mg PO BID,\n",
       " 'bisoprolol': bisoprolol 1.25 mg PO BID}"
      ]
     },
     "execution_count": 3,
     "metadata": {},
     "output_type": "execute_result"
    }
   ],
   "source": [
    "beta_blocker_ladder.lowest_steps"
   ]
  },
  {
   "cell_type": "markdown",
   "metadata": {},
   "source": [
    "... or given a specific dose, suggest the next step up the dosing ladder:"
   ]
  },
  {
   "cell_type": "code",
   "execution_count": 4,
   "metadata": {},
   "outputs": [
    {
     "data": {
      "text/plain": [
       "metoprolol succinate 50 mg PO daily"
      ]
     },
     "execution_count": 4,
     "metadata": {},
     "output_type": "execute_result"
    }
   ],
   "source": [
    "beta_blocker_ladder.get_next_step_up(Medication(metoprolol_succinate, \"25 mg\", \"PO\", \"daily\"))"
   ]
  },
  {
   "cell_type": "markdown",
   "metadata": {},
   "source": [
    "## Rule"
   ]
  },
  {
   "cell_type": "markdown",
   "metadata": {},
   "source": [
    "A `Rule` is defined by the name of patient parameter (eg, heart rate), a value, and an operation. A `Rule` can then be used to evaluate patients and see if they meet or trigger the rule.\n",
    "\n",
    "The following is an example of a rule that evaluates for systolic blood pressure less than 100:"
   ]
  },
  {
   "cell_type": "code",
   "execution_count": 5,
   "metadata": {},
   "outputs": [],
   "source": [
    "hypotension = Rule('SBP', 'lt', 100)"
   ]
  },
  {
   "cell_type": "markdown",
   "metadata": {},
   "source": [
    "`\"lt\"` refers to the boolean operation less than (`<`).\n",
    "\n",
    "The operations recognized by `Rule` are `\"eq\"` (`==`), `\"neq\"` (`!=`), `\"gt\"` (`>`), `\"gte\"` (`>=`), `\"lt\"` (`<`), \"`lte\"` (`<=`), and `\"in\"` (`in`). "
   ]
  },
  {
   "cell_type": "markdown",
   "metadata": {},
   "source": [
    "\n",
    "Using this rule, we can evaluate a particular patient as follows. In this example, the patient triggers the rule:"
   ]
  },
  {
   "cell_type": "code",
   "execution_count": 6,
   "metadata": {},
   "outputs": [
    {
     "data": {
      "text/plain": [
       "True"
      ]
     },
     "execution_count": 6,
     "metadata": {},
     "output_type": "execute_result"
    }
   ],
   "source": [
    "p = Patient(SBP=90)\n",
    "hypotension.evaluate(p).is_satisfied"
   ]
  },
  {
   "cell_type": "markdown",
   "metadata": {},
   "source": [
    "The following patient does not trigger the rule:"
   ]
  },
  {
   "cell_type": "code",
   "execution_count": 7,
   "metadata": {},
   "outputs": [
    {
     "data": {
      "text/plain": [
       "False"
      ]
     },
     "execution_count": 7,
     "metadata": {},
     "output_type": "execute_result"
    }
   ],
   "source": [
    "p = Patient(SBP=110)\n",
    "hypotension.evaluate(p).is_satisfied"
   ]
  },
  {
   "cell_type": "markdown",
   "metadata": {},
   "source": [
    "A `Rule` can also be conditional, meaning that it is triggered only in the presence of a certain condition. The condition is defined as another `Rule` as well. For example:"
   ]
  },
  {
   "cell_type": "code",
   "execution_count": 8,
   "metadata": {},
   "outputs": [],
   "source": [
    "no_pacemaker = Rule('has_pacemaker', 'eq', False)\n",
    "bradycardia = ConditionalRule('HR' , 'lt', 60, condition=no_pacemaker)"
   ]
  },
  {
   "cell_type": "markdown",
   "metadata": {},
   "source": [
    "In the following example, although the patient meets the `Rule`'s criteria, the rule is not triggered because the condition is not met."
   ]
  },
  {
   "cell_type": "code",
   "execution_count": 9,
   "metadata": {},
   "outputs": [
    {
     "data": {
      "text/plain": [
       "False"
      ]
     },
     "execution_count": 9,
     "metadata": {},
     "output_type": "execute_result"
    }
   ],
   "source": [
    "p = Patient(HR=50, has_pacemaker=True)\n",
    "bradycardia.evaluate(p).is_satisfied"
   ]
  },
  {
   "cell_type": "markdown",
   "metadata": {},
   "source": [
    "## Action"
   ]
  },
  {
   "cell_type": "markdown",
   "metadata": {},
   "source": [
    "An `Action` is a single recommendation that could be made by the titration algorithm, such as starting a medication or increasing the dose of a medication. An `Action` contains the logic for generating a text version of the recommendation, generating a button, and providing a hook which executes the action upon triggering the button.\n",
    "\n",
    "The following is an example of an action:"
   ]
  },
  {
   "cell_type": "code",
   "execution_count": 10,
   "metadata": {},
   "outputs": [],
   "source": [
    "class Start(Action):\n",
    "    \"\"\"\n",
    "    Start a new medication.\n",
    "    \"\"\"\n",
    "    def suggest(self):\n",
    "        \"\"\"\n",
    "        Provide a text recommendation.\n",
    "        \"\"\"\n",
    "        med_names = list(self.lowest_steps)\n",
    "        return f\"Start {', '.join([str(self.lowest_steps[med]) for med in med_names[:-1]])}, or {str(self.lowest_steps[med_names[-1]])}.\"\n",
    "\n",
    "    def buttons(self):\n",
    "        \"\"\"\n",
    "        Provide a list of buttons to display.\n",
    "        \"\"\"\n",
    "        return [str(self.lowest_steps[med]) for med in self.lowest_steps]\n",
    "\n",
    "    def perform(self, medication_name: str):\n",
    "        \"\"\"\n",
    "        Perform the action.\n",
    "        \"\"\"\n",
    "        assert medication_name in self.lowest_steps\n",
    "        self.patient.medications.append(self.lowest_steps[medication_name])\n",
    "\n",
    "    def __init__(self, patient: Patient, dosing_ladder: DosingLadder):\n",
    "        super().__init__(patient, dosing_ladder, None)\n",
    "        self.lowest_steps = self.dosing_ladder.lowest_steps"
   ]
  },
  {
   "cell_type": "markdown",
   "metadata": {},
   "source": [
    "The `Action` takes a `Patient` and a `DosingLadder` as parameters. The following is an example of instantiating an `Action` using a `Patient` with no medications."
   ]
  },
  {
   "cell_type": "code",
   "execution_count": 11,
   "metadata": {},
   "outputs": [],
   "source": [
    "p = Patient(medications=[])\n",
    "start = Start(p, beta_blocker_ladder)"
   ]
  },
  {
   "cell_type": "markdown",
   "metadata": {},
   "source": [
    "The `Action` can now return a text recommendation:"
   ]
  },
  {
   "cell_type": "code",
   "execution_count": 12,
   "metadata": {},
   "outputs": [
    {
     "data": {
      "text/plain": [
       "'Start metoprolol succinate 12.5 mg PO daily, carvedilol 3.125 mg PO BID, or bisoprolol 1.25 mg PO BID.'"
      ]
     },
     "execution_count": 12,
     "metadata": {},
     "output_type": "execute_result"
    }
   ],
   "source": [
    "start.suggest()"
   ]
  },
  {
   "cell_type": "markdown",
   "metadata": {},
   "source": [
    "It can also return a list of buttons (this is just a list of strings now, but I'm pretending these are buttons for the purposes of this illustration):"
   ]
  },
  {
   "cell_type": "code",
   "execution_count": 13,
   "metadata": {},
   "outputs": [
    {
     "data": {
      "text/plain": [
       "['metoprolol succinate 12.5 mg PO daily',\n",
       " 'carvedilol 3.125 mg PO BID',\n",
       " 'bisoprolol 1.25 mg PO BID']"
      ]
     },
     "execution_count": 13,
     "metadata": {},
     "output_type": "execute_result"
    }
   ],
   "source": [
    "start.buttons()"
   ]
  },
  {
   "cell_type": "markdown",
   "metadata": {},
   "source": [
    "It can also perform the action once triggered.\n",
    "\n",
    "In this example, the `Action` modifies the patient's medication list. In a real-world application, this could pend a prescription for the provider to sign. The value `\"metoprolol succinate\"` is passed back to the method upon clicking the appropriate button."
   ]
  },
  {
   "cell_type": "code",
   "execution_count": 14,
   "metadata": {},
   "outputs": [
    {
     "data": {
      "text/plain": [
       "[metoprolol succinate 12.5 mg PO daily]"
      ]
     },
     "execution_count": 14,
     "metadata": {},
     "output_type": "execute_result"
    }
   ],
   "source": [
    "start.perform(\"metoprolol succinate\")\n",
    "p.medications"
   ]
  },
  {
   "cell_type": "markdown",
   "metadata": {},
   "source": [
    "The `titrations` module comes with a few pre-defined `Actions`:\n",
    "- `Start`\n",
    "- `DoNotStart`\n",
    "- `StepUp`\n",
    "- `StepDown`\n",
    "- `Continue`\n",
    "- `Stop`\n",
    "- `MarkMaxDose`\n",
    "- `ReportReaction`\n",
    "\n",
    "(Note: not all of these are fully implemented)"
   ]
  },
  {
   "cell_type": "markdown",
   "metadata": {},
   "source": [
    "## Rule With Actions"
   ]
  },
  {
   "cell_type": "markdown",
   "metadata": {},
   "source": [
    "A `RuleWithActions` is a `Rule` that, in addition to returning a value of `True` or `False`, returns a list of recommended actions depending on the evaluation result of the rule.\n",
    "\n",
    "For example, the rule `hypotension` could return `StepDown` and `MarkMaxDose` as recommended actions when it is triggered."
   ]
  },
  {
   "cell_type": "markdown",
   "metadata": {},
   "source": [
    "Since there are some common patterns in how certain rules provide recommendations, the following generic `Rule(s)WithActions` are provided:"
   ]
  },
  {
   "cell_type": "code",
   "execution_count": 15,
   "metadata": {},
   "outputs": [],
   "source": [
    "class ClassLimitingRule(RuleWithActions):\n",
    "    default_actions_when_satisfied = [Stop, ReportReaction]\n",
    "\n",
    "class TitrationLimitingRule(RuleWithActions):\n",
    "    default_actions_when_satisfied = [Continue, StepDown, MarkMaxDose]"
   ]
  },
  {
   "cell_type": "markdown",
   "metadata": {},
   "source": [
    "Using these tools, the `hypotension` rule can now be defined as:"
   ]
  },
  {
   "cell_type": "code",
   "execution_count": 16,
   "metadata": {},
   "outputs": [],
   "source": [
    "hypotension = TitrationLimitingRule('SBP', 'lt', 100)"
   ]
  },
  {
   "cell_type": "code",
   "execution_count": 17,
   "metadata": {},
   "outputs": [
    {
     "data": {
      "text/plain": [
       "True"
      ]
     },
     "execution_count": 17,
     "metadata": {},
     "output_type": "execute_result"
    }
   ],
   "source": [
    "p = Patient(SBP=90)\n",
    "eval_result = hypotension.evaluate(p)\n",
    "eval_result.is_satisfied"
   ]
  },
  {
   "cell_type": "code",
   "execution_count": 18,
   "metadata": {},
   "outputs": [
    {
     "data": {
      "text/plain": [
       "[titrations.titrations2.Continue,\n",
       " titrations.titrations2.StepDown,\n",
       " titrations.titrations2.MarkMaxDose]"
      ]
     },
     "execution_count": 18,
     "metadata": {},
     "output_type": "execute_result"
    }
   ],
   "source": [
    "eval_result.recommended_actions"
   ]
  },
  {
   "cell_type": "markdown",
   "metadata": {},
   "source": [
    "## Titrator"
   ]
  },
  {
   "cell_type": "markdown",
   "metadata": {},
   "source": [
    "A `Titrator` combines all the concepts above and is the workhorse of the algorithm. Different titrators are defined as subclasses of `Titrator`. An example is below:"
   ]
  },
  {
   "cell_type": "code",
   "execution_count": 19,
   "metadata": {},
   "outputs": [],
   "source": [
    "class BetaBlockerHFrEFTitrator(Titrator):\n",
    "    dosing_ladder = beta_blocker_ladder\n",
    "    default_titration_target = MaxTolerated\n",
    "    default_rules = [\n",
    "        hypotension,\n",
    "        bradycardia,\n",
    "        decompensation,\n",
    "        symptoms,\n",
    "        av_block,\n",
    "    ]"
   ]
  },
  {
   "cell_type": "code",
   "execution_count": null,
   "metadata": {},
   "outputs": [],
   "source": [
    "normal_blood_pressure = Rule('SBP', 'lt', 120)\n",
    "\n",
    "class BetaBlockerHypertensionTitrator(Titrator):\n",
    "    dosing_ladder = beta_blocker_ladder\n",
    "    default_titration_target = normal_blood_pressure\n",
    "    default_rules = [\n",
    "        hypotension,\n",
    "        bradycardia,\n",
    "        decompensation,\n",
    "        symptoms,\n",
    "        av_block,\n",
    "    ]"
   ]
  },
  {
   "cell_type": "markdown",
   "metadata": {},
   "source": [
    "### Example 1"
   ]
  },
  {
   "cell_type": "markdown",
   "metadata": {},
   "source": [
    "The following is an example of instantiating and running the titrator on a particular patient. In this case, the patient is not on any medications, and has no contraindications to start a beta blocker. After evaluation, the attribute `can_advance` indicates whether the next step in titrating the medication can be taken, whether that be initiating or uptitrating a medication."
   ]
  },
  {
   "cell_type": "code",
   "execution_count": 23,
   "metadata": {},
   "outputs": [
    {
     "data": {
      "text/plain": [
       "True"
      ]
     },
     "execution_count": 23,
     "metadata": {},
     "output_type": "execute_result"
    }
   ],
   "source": [
    "patient1 = Patient(SBP=110, HR=70, medications=[], has_pacemaker=False, decompensated=False, av_block=False, symptomatic=False)\n",
    "\n",
    "titrator1 = BetaBlockerHFrEFTitrator(patient1)\n",
    "titrator1.evaluate()\n",
    "\n",
    "titrator1.can_advance"
   ]
  },
  {
   "cell_type": "markdown",
   "metadata": {},
   "source": [
    "The attribute `recommended_actions` indicates the `Action`s that resulted from the evaluation \n",
    "of each of the rules within the titrator. In this case, it's recommending a `Start` action."
   ]
  },
  {
   "cell_type": "code",
   "execution_count": 24,
   "metadata": {},
   "outputs": [
    {
     "data": {
      "text/plain": [
       "[<titrations.titrations2.Start at 0x10b84d960>]"
      ]
     },
     "execution_count": 24,
     "metadata": {},
     "output_type": "execute_result"
    }
   ],
   "source": [
    "titrator1.recommended_actions"
   ]
  },
  {
   "cell_type": "markdown",
   "metadata": {},
   "source": [
    "The same properties and methods of `Action`s are accessible, similar to what's described above. Here we ask for a text recommendation."
   ]
  },
  {
   "cell_type": "code",
   "execution_count": 25,
   "metadata": {},
   "outputs": [
    {
     "data": {
      "text/plain": [
       "'Start metoprolol succinate 12.5 mg PO daily, carvedilol 3.125 mg PO BID, or bisoprolol 1.25 mg PO BID.'"
      ]
     },
     "execution_count": 25,
     "metadata": {},
     "output_type": "execute_result"
    }
   ],
   "source": [
    "titrator1.recommended_actions[0].suggest()"
   ]
  },
  {
   "cell_type": "markdown",
   "metadata": {},
   "source": [
    "### Example 2"
   ]
  },
  {
   "cell_type": "markdown",
   "metadata": {},
   "source": [
    "In this example, the patient has low systolic blood pressure, and is decompensated. The titrator indicates that advancing is not recommended, as indicated by the `can_advance` attribute."
   ]
  },
  {
   "cell_type": "code",
   "execution_count": 34,
   "metadata": {},
   "outputs": [
    {
     "data": {
      "text/plain": [
       "False"
      ]
     },
     "execution_count": 34,
     "metadata": {},
     "output_type": "execute_result"
    }
   ],
   "source": [
    "patient2 = Patient(SBP=70, HR=70,\n",
    "                   medications=[Medication(metoprolol_succinate, \"25 mg\", \"PO\", \"daily\")],\n",
    "                   has_pacemaker=False, decompensated=True, av_block=False, symptomatic=False)\n",
    "\n",
    "titrator2 = BetaBlockerHFrEFTitrator(patient2)\n",
    "titrator2.evaluate()\n",
    "\n",
    "titrator2.can_advance"
   ]
  },
  {
   "cell_type": "markdown",
   "metadata": {},
   "source": [
    "It also explains why it cannot advance by providing a list of rules that have been triggered, using the attribute `satisfied_rules`:"
   ]
  },
  {
   "cell_type": "code",
   "execution_count": 27,
   "metadata": {},
   "outputs": [
    {
     "data": {
      "text/plain": [
       "[SBP lt 100, decompensated eq True]"
      ]
     },
     "execution_count": 27,
     "metadata": {},
     "output_type": "execute_result"
    }
   ],
   "source": [
    "titrator2.satisfied_rules"
   ]
  },
  {
   "cell_type": "markdown",
   "metadata": {},
   "source": [
    "It subsequently provides a different list of recommended actions. These are provided by the two rules that have been triggered."
   ]
  },
  {
   "cell_type": "code",
   "execution_count": 28,
   "metadata": {},
   "outputs": [
    {
     "data": {
      "text/plain": [
       "[<titrations.titrations2.Continue at 0x10b84d270>,\n",
       " <titrations.titrations2.StepDown at 0x10b84d210>,\n",
       " <titrations.titrations2.MarkMaxDose at 0x10b84d6c0>]"
      ]
     },
     "execution_count": 28,
     "metadata": {},
     "output_type": "execute_result"
    }
   ],
   "source": [
    "titrator2.recommended_actions"
   ]
  },
  {
   "cell_type": "markdown",
   "metadata": {},
   "source": [
    "Similar to above, these actions have the full capabilities of `Action`s:"
   ]
  },
  {
   "cell_type": "code",
   "execution_count": 35,
   "metadata": {},
   "outputs": [
    {
     "data": {
      "text/plain": [
       "'Decrease metoprolol succinate to metoprolol succinate 12.5 mg PO daily.'"
      ]
     },
     "execution_count": 35,
     "metadata": {},
     "output_type": "execute_result"
    }
   ],
   "source": [
    "titrator2.recommended_actions[1].suggest()"
   ]
  },
  {
   "cell_type": "markdown",
   "metadata": {},
   "source": [
    "## Full Example"
   ]
  },
  {
   "cell_type": "markdown",
   "metadata": {},
   "source": [
    "Putting everything together, the language described above can be used to express a full titration algorithm. The HFrEF beta blocker titration algorithm can be fully expressed using the following code:"
   ]
  },
  {
   "cell_type": "code",
   "execution_count": null,
   "metadata": {},
   "outputs": [],
   "source": [
    "# Dosing ladder\n",
    "\n",
    "beta_blocker_ladder = DosingLadder({\n",
    "    metoprolol_succinate.name: [\n",
    "        Medication(metoprolol_succinate, \"12.5 mg\", \"PO\", \"daily\"),\n",
    "        Medication(metoprolol_succinate, \"25 mg\", \"PO\", \"daily\"),\n",
    "        Medication(metoprolol_succinate, \"50 mg\", \"PO\", \"daily\"),\n",
    "        Medication(metoprolol_succinate, \"100 mg\", \"PO\", \"daily\"),\n",
    "    ],\n",
    "    carvedilol.name: [\n",
    "        Medication(carvedilol, \"3.125 mg\", \"PO\", \"BID\"),\n",
    "        Medication(carvedilol, \"6.25 mg\", \"PO\", \"BID\"),\n",
    "        Medication(carvedilol, \"12.5 mg\", \"PO\", \"BID\"),\n",
    "        Medication(carvedilol, \"25 mg\", \"PO\", \"BID\"),\n",
    "    ],\n",
    "    bisoprolol.name: [\n",
    "        Medication(bisoprolol, \"1.25 mg\", \"PO\", \"BID\"),\n",
    "        Medication(bisoprolol, \"2.5 mg\", \"PO\", \"BID\"),\n",
    "        Medication(bisoprolol, \"5 mg\", \"PO\", \"BID\"),\n",
    "        Medication(bisoprolol, \"10 mg\", \"PO\", \"BID\"),\n",
    "    ]\n",
    "})\n",
    "\n",
    "# Rules\n",
    "\n",
    "no_pacemaker = Rule('has_pacemaker', 'eq', False)\n",
    "\n",
    "hypotension = TitrationLimitingRule('SBP', 'lt', 100)\n",
    "bradycardia = ConditionTitrationLimitingRule('HR' , 'lt', 60, condition=no_pacemaker)\n",
    "decompensation = TitrationLimitingRule('decompensated', 'eq', True)\n",
    "symptoms = TitrationLimitingRule('symptomatic', 'eq', True)\n",
    "av_block = TitrationLimitingRule('av_block', 'eq', True)\n",
    "\n",
    "# Titrator\n",
    "\n",
    "class BetaBlockerHFrEFTitrator(Titrator):\n",
    "    dosing_ladder = beta_blocker_ladder\n",
    "    default_titration_target = MaxTolerated\n",
    "    default_rules = [\n",
    "        hypotension,\n",
    "        bradycardia,\n",
    "        decompensation,\n",
    "        symptoms,\n",
    "        av_block,\n",
    "    ]"
   ]
  },
  {
   "cell_type": "markdown",
   "metadata": {},
   "source": [
    "# Assumptions and Limitations"
   ]
  },
  {
   "cell_type": "markdown",
   "metadata": {},
   "source": [
    "# Further direction"
   ]
  },
  {
   "cell_type": "markdown",
   "metadata": {},
   "source": []
  }
 ],
 "metadata": {
  "kernelspec": {
   "display_name": "base",
   "language": "python",
   "name": "python3"
  },
  "language_info": {
   "codemirror_mode": {
    "name": "ipython",
    "version": 3
   },
   "file_extension": ".py",
   "mimetype": "text/x-python",
   "name": "python",
   "nbconvert_exporter": "python",
   "pygments_lexer": "ipython3",
   "version": "3.10.13"
  }
 },
 "nbformat": 4,
 "nbformat_minor": 2
}
