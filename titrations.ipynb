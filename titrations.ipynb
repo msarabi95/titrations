{
 "cells": [
  {
   "cell_type": "markdown",
   "metadata": {},
   "source": [
    "# Proof of Concept of a generalizable titration algorithm"
   ]
  },
  {
   "cell_type": "markdown",
   "metadata": {},
   "source": [
    "# Concepts\n",
    "## Rule\n",
    "A rule has a `parameter`, `operation`, and a `threshold` such that running the `operation` on `parameter` and `threshold` always returns a boolean value (True or False). This value can be computed by running the method `is_satisfied`.\n",
    "\n",
    "## Action\n",
    "A specific recommendation or action. It has three methods that can be defined for each specific action type: the first returns a text version, the second a clickable button, and the third implements what should be done when the button is clicked.\n",
    "\n",
    "## Rule With Actions\n",
    "Extends `Rule` but also suggests a list of `Action`s depending on whether it is satisfied or not. These are defined by two attributes: `actions_when_satisfied` and `actions_when_not_satisfied`. In addition to `Action`s, these two attributes can hold other Rules with Actions. The method `get_suggested_actions` evaluates the `Rule` and selects the appropriate list of actions. If the list contains other Rules With Actions, these are evaluated recursively until the list only contains `Action`s.\n",
    "\n",
    "## Dosing Ladder\n",
    "\n",
    "## Titrator\n",
    "The actual engine running the titration process. Has `checkpoints`, which is a list of `Rule(s)WithActions`. `checkpoints` indicates both initiation and titration rules, but these can be specified separately by defining `inititation_checkpoints` and `titration_checkpoints`. "
   ]
  },
  {
   "cell_type": "code",
   "execution_count": null,
   "metadata": {},
   "outputs": [],
   "source": [
    "#|default_exp titrations"
   ]
  },
  {
   "cell_type": "code",
   "execution_count": null,
   "metadata": {},
   "outputs": [],
   "source": [
    "#|export\n",
    "from typing import List\n",
    "from titrations.basics import *"
   ]
  },
  {
   "cell_type": "code",
   "execution_count": 2,
   "metadata": {},
   "outputs": [],
   "source": [
    "#|export\n",
    "\n",
    "class DosingLadder:\n",
    "    def __init__(self, steps : List[Medication]):\n",
    "        self.steps = steps\n",
    "        self.ingredient = self.steps[0].ingredient\n",
    "\n",
    "    def _current_dose_index(self, current_med):\n",
    "        index = next((i for i, med in enumerate(self.steps) if med.dose == current_med.dose), None)\n",
    "        return index\n",
    "    \n",
    "    def _at_highest_dose(self, current_med):\n",
    "        return current_med.dose == self.highest_dose.dose\n",
    "    \n",
    "    def next_dose_up(self, current_med):\n",
    "        current_dose_index = self._current_dose_index(current_med)\n",
    "        return self.steps[current_dose_index + 1]\n",
    "\n",
    "    def next_dose_down(self, current_med):\n",
    "        current_dose_index = self._current_dose_index(current_med)\n",
    "        return self.steps[current_dose_index - 1]\n",
    "\n",
    "    @property\n",
    "    def lowest_dose(self):\n",
    "        return self.steps[0]\n",
    "\n",
    "    @property\n",
    "    def highest_dose(self):\n",
    "        return self.steps[-1]"
   ]
  },
  {
   "cell_type": "code",
   "execution_count": 44,
   "metadata": {},
   "outputs": [],
   "source": [
    "#|export\n",
    "class DosingLadderGroup:\n",
    "    def __init__(self, dosing_ladders : List[DosingLadder]):\n",
    "        lengths = map(lambda ladder: len(ladder.steps), dosing_ladders)\n",
    "        assert len(set(lengths)) == 1, \"Dosing ladders of unequal length.\"\n",
    "        self.ladders = {ladder.ingredient.name : ladder for ladder in dosing_ladders}\n",
    "\n",
    "    @property\n",
    "    def lowest_doses(self):\n",
    "        return {ingredient_name : self.ladders[ingredient_name].steps[0] for ingredient_name in self.ladders}\n",
    "    \n",
    "    @property\n",
    "    def highest_doses(self):\n",
    "        return {ingredient_name : self.ladders[ingredient_name].steps[-1] for ingredient_name in self.ladders}"
   ]
  },
  {
   "cell_type": "code",
   "execution_count": 4,
   "metadata": {},
   "outputs": [],
   "source": [
    "#|export\n",
    "class Action:\n",
    "    \"\"\"\n",
    "    This is a base class for 'Action' classes to build upon.\n",
    "    \"\"\"\n",
    "    def __init__(self, patient : Patient, dosing_ladder : DosingLadder):\n",
    "        self.patient = patient\n",
    "        self.dosing_ladder = dosing_ladder\n",
    "        self.ingredient = dosing_ladder.ingredient\n",
    "\n",
    "    def suggest(self):\n",
    "        pass\n",
    "\n",
    "    def perform(self):\n",
    "        pass\n",
    "\n",
    "class Start(Action):\n",
    "    \"\"\"\n",
    "    Start a new medication.\n",
    "    \"\"\"\n",
    "    def suggest(self):\n",
    "        return f\"Start {self.dosing_ladder.lowest_dose}.\"\n",
    "\n",
    "    def perform(self):\n",
    "        pass\n",
    "\n",
    "class DoNotStart(Action):\n",
    "    \"\"\"\n",
    "    Do not start a new medication.\n",
    "    \"\"\"\n",
    "    def suggest(self):\n",
    "        return f\"Do not start {self.ingredient.name}.\"\n",
    "\n",
    "    def perform(self):\n",
    "        pass\n",
    "\n",
    "class StepUp(Action):\n",
    "    \"\"\"\n",
    "    Step up one dose on the dosing ladder.\n",
    "    \"\"\"\n",
    "    def suggest(self):\n",
    "        current_dose = self.patient.current_dose_of(self.ingredient)\n",
    "        next_dose = self.dosing_ladder.next_dose_up(current_dose)\n",
    "        return f\"Increase {self.ingredient.name} to {next_dose}.\"\n",
    "\n",
    "    def perform(self):\n",
    "        pass\n",
    "\n",
    "class StepDown(Action):\n",
    "    \"\"\"\n",
    "    Step down one dose on the dosing ladder.\n",
    "    \"\"\"\n",
    "    def suggest(self):\n",
    "        current_dose = self.patient.current_dose_of(self.ingredient)\n",
    "        next_dose = self.dosing_ladder.next_dose_down(current_dose)\n",
    "        return f\"Decrease {self.ingredient.name} to {next_dose}.\"\n",
    "\n",
    "    def perform(self):\n",
    "        pass\n",
    "\n",
    "class Continue(Action):\n",
    "    \"\"\"\n",
    "    Continue the medication at the same dose.\n",
    "    \"\"\"\n",
    "    def suggest(self):\n",
    "        current_dose = self.patient.current_dose_of(self.ingredient)\n",
    "        return f\"Continue {current_dose}.\"\n",
    "\n",
    "    def perform(self):\n",
    "        pass\n",
    "\n",
    "class Stop(Action):\n",
    "    \"\"\"\n",
    "    Stop the medication.\n",
    "    \"\"\"\n",
    "    def suggest(self):\n",
    "        return f\"Stop {self.ingredient.name}.\"\n",
    "\n",
    "    def perform(self):\n",
    "        pass\n",
    "\n",
    "class MarkMaxDose(Action):\n",
    "    \"\"\"\n",
    "    Mark current dose as maxiumum tolerated dose.\n",
    "    \"\"\"\n",
    "    def suggest(self):\n",
    "        current_dose = self.patient.current_dose_of(self.ingredient)\n",
    "        return f\"Mark {current_dose} as maximum tolerated dose.\"\n",
    "    \n",
    "    def perform(self):\n",
    "        pass\n",
    "\n",
    "class ReportReaction(Action):\n",
    "    \"\"\"\n",
    "    File an adverse reaction record.\n",
    "    \"\"\"\n",
    "    def suggest(self):\n",
    "        return f\"File an adverse reaction to {self.ingredient.name}\"\n",
    "\n",
    "    def perform(self, description=\"reaction\"):\n",
    "        # In real life, this could be opening a modal for entering adverse reactions instead\n",
    "        self.patient.reactions.append(\n",
    "            Reaction(self.ingredient, description),\n",
    "        )"
   ]
  },
  {
   "cell_type": "code",
   "execution_count": 5,
   "metadata": {},
   "outputs": [],
   "source": [
    "#|export\n",
    "import operator\n",
    "\n",
    "class Rule:\n",
    "    def satisfies_rule(self, patient: Patient) -> bool:\n",
    "        pass\n",
    "\n",
    "class Intolerance:\n",
    "    operators = {\n",
    "        \"gt\": operator.gt,\n",
    "        \"gte\": operator.ge,\n",
    "        \"lt\": operator.lt,\n",
    "        \"lte\": operator.le,\n",
    "        \"eq\": operator.eq,\n",
    "        \"neq\": operator.ne,\n",
    "        \"in\": operator.contains,\n",
    "    }\n",
    "    success_actions : List[Action] = []\n",
    "    failure_actions : List[Action] = []\n",
    "\n",
    "    def __init__(self,\n",
    "                 parameter:str, operation:str, threshold,\n",
    "                 additional_success_actions: List[Action] = [],\n",
    "                 additional_failure_actions: List[Action] = []):\n",
    "        assert parameter in VALID_PARAMETERS, \"Not a valid parameter\"\n",
    "        assert operation in self.operators, f\"Invalid operator {operation}\"\n",
    "        self.parameter = parameter\n",
    "        self.operation = operation\n",
    "        self.threshold = threshold\n",
    "        self.success_actions.extend(additional_success_actions)\n",
    "        self.failure_actions.extend(additional_failure_actions)\n",
    "\n",
    "    def meets_threshold(self, patient):\n",
    "        patient_value = getattr(patient, self.parameter, None)\n",
    "        if not patient_value: return False\n",
    "        return self.operators[self.operation](patient_value, self.threshold) if self.operation != \"in\" else self.operators[self.operation](self.threshold, patient_value)\n",
    "    \n",
    "    def suggested_actions(self, patient) -> List[Action]:\n",
    "        return self.success_actions if self.meets_threshold(patient) else self.failure_actions\n",
    "    \n",
    "    def __repr__(self) -> str:\n",
    "        return f\"{self.parameter} {self.operation} {self.threshold}\""
   ]
  },
  {
   "cell_type": "code",
   "execution_count": 6,
   "metadata": {},
   "outputs": [],
   "source": [
    "#|export\n",
    "class ConditionalIntolerance(Intolerance):\n",
    "    def __init__(self,\n",
    "                 parameter: str, operation, threshold,\n",
    "                 condition_parameter: str,\n",
    "                 condition_operation,\n",
    "                 condition_threshold):\n",
    "        super().__init__(parameter, operation, threshold)\n",
    "\n",
    "        assert condition_parameter in VALID_PARAMETERS\n",
    "        self.condition_parameter = condition_parameter\n",
    "        self.condition_operation = condition_operation\n",
    "        self.condition_threshold = condition_threshold\n",
    "\n",
    "    def condition_is_met(self, patient):\n",
    "        patient_value = getattr(patient, self.condition_parameter)\n",
    "        return self.operators[self.condition_operation](patient_value, self.condition_threshold)\n",
    "    \n",
    "    def meets_threshold(self, patient):\n",
    "        return super().meets_threshold(patient) if self.condition_is_met(patient) else False"
   ]
  },
  {
   "cell_type": "code",
   "execution_count": 7,
   "metadata": {},
   "outputs": [],
   "source": [
    "#|export\n",
    "class ClassLimitingIntolerance(Intolerance):\n",
    "    success_actions = [Stop, ReportReaction]\n",
    "\n",
    "class TitrationLimitingIntolerance(Intolerance):\n",
    "    success_actions = [Continue, StepDown, MarkMaxDose]\n",
    "\n",
    "class NonTitrationLimitingIntolerance(Intolerance):\n",
    "    pass"
   ]
  },
  {
   "cell_type": "code",
   "execution_count": 8,
   "metadata": {},
   "outputs": [],
   "source": [
    "#|export\n",
    "class Titrator:\n",
    "    def __init__(self, patient : Patient, dosing_ladder : DosingLadder = None):\n",
    "        self.patient = patient\n",
    "        \n",
    "        if dosing_ladder:\n",
    "            self.dosing_ladder = dosing_ladder\n",
    "\n",
    "        if getattr(self, 'dosing_ladder', None):\n",
    "            self.ingredient = self.dosing_ladder.ingredient\n",
    "    \n",
    "    medication_target_options = (\n",
    "        ('MAX', 'Maximum tolerated'),\n",
    "        ('PARAMETER', 'Titrate to a parameter'),\n",
    "    )\n",
    "    titration_target: Rule\n",
    "\n",
    "    dosing_ladder: DosingLadder\n",
    "    intolerances: List[Intolerance] = []\n",
    "\n",
    "    def _satisfied_rules(self):\n",
    "        return list(filter(lambda rule: rule.meets_threshold(self.patient), self.intolerances))\n",
    "\n",
    "    def can_titrate(self):\n",
    "        outputs = map(lambda rule: not rule.meets_threshold(self.patient), self.intolerances)\n",
    "        return all(outputs)\n",
    "    \n",
    "    def get_suggestion_texts(self):\n",
    "        suggested_actions = self.get_suggested_actions()\n",
    "        return [action.suggest() for action in suggested_actions]\n",
    "\n",
    "    def get_suggested_actions(self):\n",
    "        # TODO: These should be derived from the `intolerance` rules rather than specified manually.\n",
    "        if self.can_titrate():\n",
    "            return [StepUp(self.patient, self.dosing_ladder)] if self.patient.on_medication(self.ingredient) else \\\n",
    "                  [Start(self.patient, self.dosing_ladder)]\n",
    "        else:\n",
    "            from itertools import chain\n",
    "            action_lists = [rule.success_actions for rule in self._satisfied_rules()]\n",
    "            return [action(self.patient, self.dosing_ladder) for action in set(chain.from_iterable(action_lists))]\n",
    "\n",
    "            ## return [Continue(self.patient, self.dosing_ladder) if self.patient.on_medication(self.ingredient) else \\\n",
    "            ##        [DoNotStart(self.patient, self.dosing_ladder)]]"
   ]
  },
  {
   "cell_type": "code",
   "execution_count": 55,
   "metadata": {},
   "outputs": [],
   "source": [
    "#|export\n",
    "import itertools\n",
    "\n",
    "class TitratorGroup:\n",
    "    patient: Patient\n",
    "    titrators: List[Titrator]\n",
    "    exclusive: bool # being on a medication in any of the member ladders precludes going up any other ladder\n",
    "\n",
    "    def __init__(self, patient : Patient, titrators : List[Titrator], exclusive : bool = False):\n",
    "        self.patient = patient\n",
    "        self.titrators = titrators\n",
    "        self.exclusive = exclusive\n",
    "\n",
    "    @classmethod\n",
    "    def from_titrator_types(cls, patient : Patient, titrator_classes : List[type[Titrator]], exclusive : bool = False):\n",
    "        titrators = [tc(patient, dosing_ladder=tc.dosing_ladder) for tc in titrator_classes]\n",
    "        return cls(patient, titrators, exclusive)\n",
    "    \n",
    "    def _satisfied_rules(self):\n",
    "        return list(set(itertools.chain.from_iterable([t._satisfied_rules() for t in self.titrators])))\n",
    "    \n",
    "    def can_titrate(self):\n",
    "        return all([t.can_titrate() for t in self.titrators])\n",
    "    \n",
    "    def get_suggestion_texts(self):\n",
    "        suggestions = [t.get_suggestion_texts() for t in self.titrators]\n",
    "        return itertools.chain(suggestions)"
   ]
  },
  {
   "cell_type": "markdown",
   "metadata": {},
   "source": [
    "## Some examples"
   ]
  },
  {
   "cell_type": "markdown",
   "metadata": {},
   "source": [
    "### Testing dosing ladder"
   ]
  },
  {
   "cell_type": "code",
   "execution_count": 10,
   "metadata": {},
   "outputs": [],
   "source": [
    "#|export\n",
    "\n",
    "metoprolol_succinate = Ingredient(\"metoprolol succinate\")\n",
    "metoprolol_ladder = DosingLadder([\n",
    "    Medication(metoprolol_succinate, \"12.5 mg\", \"PO\", \"daily\"),\n",
    "    Medication(metoprolol_succinate, \"25 mg\", \"PO\", \"daily\"),\n",
    "    Medication(metoprolol_succinate, \"50 mg\", \"PO\", \"daily\"),\n",
    "    Medication(metoprolol_succinate, \"100 mg\", \"PO\", \"daily\"),\n",
    "])"
   ]
  },
  {
   "cell_type": "code",
   "execution_count": 11,
   "metadata": {},
   "outputs": [],
   "source": [
    "#|export\n",
    "\n",
    "carvedilol = Ingredient(\"carvedilol\")\n",
    "carvedilol_ladder = DosingLadder([\n",
    "    Medication(carvedilol, \"3.125 mg\", \"PO\", \"BID\"),\n",
    "    Medication(carvedilol, \"6.25 mg\", \"PO\", \"BID\"),\n",
    "    Medication(carvedilol, \"12.5 mg\", \"PO\", \"BID\"),\n",
    "    Medication(carvedilol, \"25 mg\", \"PO\", \"BID\"),\n",
    "])"
   ]
  },
  {
   "cell_type": "code",
   "execution_count": 12,
   "metadata": {},
   "outputs": [],
   "source": [
    "#|export\n",
    "\n",
    "bisoprolol = Ingredient(\"bisoprolol\")\n",
    "bisoprolol_ladder = DosingLadder([\n",
    "    Medication(bisoprolol, \"1.25 mg\", \"PO\", \"BID\"),\n",
    "    Medication(bisoprolol, \"2.5 mg\", \"PO\", \"BID\"),\n",
    "    Medication(bisoprolol, \"5 mg\", \"PO\", \"BID\"),\n",
    "    Medication(bisoprolol, \"10 mg\", \"PO\", \"BID\"),\n",
    "])"
   ]
  },
  {
   "cell_type": "code",
   "execution_count": 13,
   "metadata": {},
   "outputs": [
    {
     "data": {
      "text/plain": [
       "True"
      ]
     },
     "execution_count": 13,
     "metadata": {},
     "output_type": "execute_result"
    }
   ],
   "source": [
    "metoprolol_ladder._at_highest_dose(Medication(metoprolol_succinate, \"100 mg\", \"PO\", \"daily\"))"
   ]
  },
  {
   "cell_type": "code",
   "execution_count": 14,
   "metadata": {},
   "outputs": [
    {
     "data": {
      "text/plain": [
       "False"
      ]
     },
     "execution_count": 14,
     "metadata": {},
     "output_type": "execute_result"
    }
   ],
   "source": [
    "metoprolol_ladder._at_highest_dose(Medication(metoprolol_succinate, \"50 mg\", \"PO\", \"daily\"))"
   ]
  },
  {
   "cell_type": "code",
   "execution_count": 15,
   "metadata": {},
   "outputs": [
    {
     "data": {
      "text/plain": [
       "2"
      ]
     },
     "execution_count": 15,
     "metadata": {},
     "output_type": "execute_result"
    }
   ],
   "source": [
    "metoprolol_ladder._current_dose_index(Medication(metoprolol_succinate, \"50 mg\", \"PO\", \"daily\"))"
   ]
  },
  {
   "cell_type": "code",
   "execution_count": 16,
   "metadata": {},
   "outputs": [
    {
     "data": {
      "text/plain": [
       "metoprolol succinate 100 mg PO daily"
      ]
     },
     "execution_count": 16,
     "metadata": {},
     "output_type": "execute_result"
    }
   ],
   "source": [
    "metoprolol_ladder.next_dose_up(Medication(metoprolol_succinate, \"50 mg\", \"PO\", \"daily\"))"
   ]
  },
  {
   "cell_type": "code",
   "execution_count": 17,
   "metadata": {},
   "outputs": [
    {
     "data": {
      "text/plain": [
       "metoprolol succinate 25 mg PO daily"
      ]
     },
     "execution_count": 17,
     "metadata": {},
     "output_type": "execute_result"
    }
   ],
   "source": [
    "metoprolol_ladder.next_dose_down(Medication(metoprolol_succinate, \"50 mg\", \"PO\", \"daily\"))"
   ]
  },
  {
   "cell_type": "markdown",
   "metadata": {},
   "source": [
    "### Testing Rules"
   ]
  },
  {
   "cell_type": "code",
   "execution_count": 18,
   "metadata": {},
   "outputs": [],
   "source": [
    "#|export\n",
    "\n",
    "mild_hyperkalemia = NonTitrationLimitingIntolerance(\n",
    "    'K', 'in', [n/10 for n in range(51, 56)],\n",
    "    additional_success_actions=[Stop],\n",
    "    )"
   ]
  },
  {
   "cell_type": "code",
   "execution_count": 19,
   "metadata": {},
   "outputs": [
    {
     "data": {
      "text/plain": [
       "True"
      ]
     },
     "execution_count": 19,
     "metadata": {},
     "output_type": "execute_result"
    }
   ],
   "source": [
    "p = Patient(K=5.3)\n",
    "mild_hyperkalemia.meets_threshold(p)"
   ]
  },
  {
   "cell_type": "code",
   "execution_count": 20,
   "metadata": {},
   "outputs": [
    {
     "data": {
      "text/plain": [
       "[__main__.Stop]"
      ]
     },
     "execution_count": 20,
     "metadata": {},
     "output_type": "execute_result"
    }
   ],
   "source": [
    "mild_hyperkalemia.suggested_actions(p)"
   ]
  },
  {
   "cell_type": "code",
   "execution_count": 21,
   "metadata": {},
   "outputs": [],
   "source": [
    "#|export\n",
    "\n",
    "hypotension = TitrationLimitingIntolerance('SBP', 'lt', 90)\n",
    "bradycardia = TitrationLimitingIntolerance('HR' , 'lt', 60)  # make it conditional\n",
    "decompensation = TitrationLimitingIntolerance('decompensated', 'eq', True)\n",
    "symptoms = TitrationLimitingIntolerance('symptomatic', 'eq', True)"
   ]
  },
  {
   "cell_type": "markdown",
   "metadata": {},
   "source": [
    "### Testing titrators"
   ]
  },
  {
   "cell_type": "code",
   "execution_count": 22,
   "metadata": {},
   "outputs": [],
   "source": [
    "#|export\n",
    "\n",
    "class BetaBlockerTitrator(Titrator):\n",
    "    intolerances = [\n",
    "        hypotension,\n",
    "        bradycardia,\n",
    "        decompensation,\n",
    "        symptoms,\n",
    "    ]\n",
    "\n",
    "class MetoprololTitrator(BetaBlockerTitrator):\n",
    "    dosing_ladder = metoprolol_ladder\n",
    "\n",
    "class CarvedilolTitrator(BetaBlockerTitrator):\n",
    "    dosing_ladder = carvedilol_ladder\n",
    "\n",
    "class BisoprololTitrator(BetaBlockerTitrator):\n",
    "    dosing_ladder = bisoprolol_ladder"
   ]
  },
  {
   "cell_type": "code",
   "execution_count": 23,
   "metadata": {},
   "outputs": [],
   "source": [
    "p = Patient(SBP=100, HR=80, decompensated=True, medications=[Medication(metoprolol_succinate, \"25 mg\", \"PO\", \"daily\")])\n",
    "t = BetaBlockerTitrator(p, dosing_ladder=metoprolol_ladder)"
   ]
  },
  {
   "cell_type": "code",
   "execution_count": 24,
   "metadata": {},
   "outputs": [
    {
     "data": {
      "text/plain": [
       "False"
      ]
     },
     "execution_count": 24,
     "metadata": {},
     "output_type": "execute_result"
    }
   ],
   "source": [
    "t.can_titrate()"
   ]
  },
  {
   "cell_type": "code",
   "execution_count": 25,
   "metadata": {},
   "outputs": [
    {
     "data": {
      "text/plain": [
       "[decompensated eq True]"
      ]
     },
     "execution_count": 25,
     "metadata": {},
     "output_type": "execute_result"
    }
   ],
   "source": [
    "t._satisfied_rules()"
   ]
  },
  {
   "cell_type": "code",
   "execution_count": 26,
   "metadata": {},
   "outputs": [
    {
     "data": {
      "text/plain": [
       "[<__main__.Continue at 0x106354940>,\n",
       " <__main__.StepDown at 0x106356d70>,\n",
       " <__main__.MarkMaxDose at 0x106357520>]"
      ]
     },
     "execution_count": 26,
     "metadata": {},
     "output_type": "execute_result"
    }
   ],
   "source": [
    "t.get_suggested_actions()"
   ]
  },
  {
   "cell_type": "code",
   "execution_count": 27,
   "metadata": {},
   "outputs": [
    {
     "data": {
      "text/plain": [
       "['Continue metoprolol succinate 25 mg PO daily.',\n",
       " 'Decrease metoprolol succinate to metoprolol succinate 12.5 mg PO daily.',\n",
       " 'Mark metoprolol succinate 25 mg PO daily as maximum tolerated dose.']"
      ]
     },
     "execution_count": 27,
     "metadata": {},
     "output_type": "execute_result"
    }
   ],
   "source": [
    "t.get_suggestion_texts()"
   ]
  },
  {
   "cell_type": "code",
   "execution_count": 28,
   "metadata": {},
   "outputs": [],
   "source": [
    "it_cond1 = ConditionalIntolerance(parameter='HR', operation='lt', threshold=60,\n",
    "                                  condition_parameter='has_pacemaker',\n",
    "                                  condition_operation='eq', condition_threshold=False)"
   ]
  },
  {
   "cell_type": "code",
   "execution_count": 29,
   "metadata": {},
   "outputs": [],
   "source": [
    "d = dict()\n",
    "d[Ingredient(\"lisinopril\").name] = '1'"
   ]
  },
  {
   "cell_type": "code",
   "execution_count": 30,
   "metadata": {},
   "outputs": [
    {
     "data": {
      "text/plain": [
       "{'lisinopril': '1'}"
      ]
     },
     "execution_count": 30,
     "metadata": {},
     "output_type": "execute_result"
    }
   ],
   "source": [
    "d"
   ]
  },
  {
   "cell_type": "code",
   "execution_count": 56,
   "metadata": {},
   "outputs": [],
   "source": [
    "bb_tg = TitratorGroup.from_titrator_types(p, [MetoprololTitrator, CarvedilolTitrator, BisoprololTitrator], exclusive=True)"
   ]
  },
  {
   "cell_type": "code",
   "execution_count": 57,
   "metadata": {},
   "outputs": [
    {
     "data": {
      "text/plain": [
       "[decompensated eq True]"
      ]
     },
     "execution_count": 57,
     "metadata": {},
     "output_type": "execute_result"
    }
   ],
   "source": [
    "bb_tg._satisfied_rules()"
   ]
  },
  {
   "cell_type": "code",
   "execution_count": 58,
   "metadata": {},
   "outputs": [
    {
     "data": {
      "text/plain": [
       "False"
      ]
     },
     "execution_count": 58,
     "metadata": {},
     "output_type": "execute_result"
    }
   ],
   "source": [
    "bb_tg.can_titrate()"
   ]
  },
  {
   "cell_type": "code",
   "execution_count": 64,
   "metadata": {},
   "outputs": [
    {
     "ename": "AttributeError",
     "evalue": "'NoneType' object has no attribute 'dose'",
     "output_type": "error",
     "traceback": [
      "\u001b[0;31m---------------------------------------------------------------------------\u001b[0m",
      "\u001b[0;31mAttributeError\u001b[0m                            Traceback (most recent call last)",
      "Cell \u001b[0;32mIn[64], line 1\u001b[0m\n\u001b[0;32m----> 1\u001b[0m \u001b[43mbb_tg\u001b[49m\u001b[38;5;241;43m.\u001b[39;49m\u001b[43mget_suggestion_texts\u001b[49m\u001b[43m(\u001b[49m\u001b[43m)\u001b[49m\n",
      "Cell \u001b[0;32mIn[55], line 25\u001b[0m, in \u001b[0;36mTitratorGroup.get_suggestion_texts\u001b[0;34m(self)\u001b[0m\n\u001b[1;32m     24\u001b[0m \u001b[38;5;28;01mdef\u001b[39;00m \u001b[38;5;21mget_suggestion_texts\u001b[39m(\u001b[38;5;28mself\u001b[39m):\n\u001b[0;32m---> 25\u001b[0m     suggestions \u001b[38;5;241m=\u001b[39m [t\u001b[38;5;241m.\u001b[39mget_suggestion_texts() \u001b[38;5;28;01mfor\u001b[39;00m t \u001b[38;5;129;01min\u001b[39;00m \u001b[38;5;28mself\u001b[39m\u001b[38;5;241m.\u001b[39mtitrators]\n\u001b[1;32m     26\u001b[0m     \u001b[38;5;28;01mreturn\u001b[39;00m itertools\u001b[38;5;241m.\u001b[39mchain(suggestions)\n",
      "Cell \u001b[0;32mIn[55], line 25\u001b[0m, in \u001b[0;36m<listcomp>\u001b[0;34m(.0)\u001b[0m\n\u001b[1;32m     24\u001b[0m \u001b[38;5;28;01mdef\u001b[39;00m \u001b[38;5;21mget_suggestion_texts\u001b[39m(\u001b[38;5;28mself\u001b[39m):\n\u001b[0;32m---> 25\u001b[0m     suggestions \u001b[38;5;241m=\u001b[39m [\u001b[43mt\u001b[49m\u001b[38;5;241;43m.\u001b[39;49m\u001b[43mget_suggestion_texts\u001b[49m\u001b[43m(\u001b[49m\u001b[43m)\u001b[49m \u001b[38;5;28;01mfor\u001b[39;00m t \u001b[38;5;129;01min\u001b[39;00m \u001b[38;5;28mself\u001b[39m\u001b[38;5;241m.\u001b[39mtitrators]\n\u001b[1;32m     26\u001b[0m     \u001b[38;5;28;01mreturn\u001b[39;00m itertools\u001b[38;5;241m.\u001b[39mchain(suggestions)\n",
      "Cell \u001b[0;32mIn[8], line 29\u001b[0m, in \u001b[0;36mTitrator.get_suggestion_texts\u001b[0;34m(self)\u001b[0m\n\u001b[1;32m     27\u001b[0m \u001b[38;5;28;01mdef\u001b[39;00m \u001b[38;5;21mget_suggestion_texts\u001b[39m(\u001b[38;5;28mself\u001b[39m):\n\u001b[1;32m     28\u001b[0m     suggested_actions \u001b[38;5;241m=\u001b[39m \u001b[38;5;28mself\u001b[39m\u001b[38;5;241m.\u001b[39mget_suggested_actions()\n\u001b[0;32m---> 29\u001b[0m     \u001b[38;5;28;01mreturn\u001b[39;00m [action\u001b[38;5;241m.\u001b[39msuggest() \u001b[38;5;28;01mfor\u001b[39;00m action \u001b[38;5;129;01min\u001b[39;00m suggested_actions]\n",
      "Cell \u001b[0;32mIn[8], line 29\u001b[0m, in \u001b[0;36m<listcomp>\u001b[0;34m(.0)\u001b[0m\n\u001b[1;32m     27\u001b[0m \u001b[38;5;28;01mdef\u001b[39;00m \u001b[38;5;21mget_suggestion_texts\u001b[39m(\u001b[38;5;28mself\u001b[39m):\n\u001b[1;32m     28\u001b[0m     suggested_actions \u001b[38;5;241m=\u001b[39m \u001b[38;5;28mself\u001b[39m\u001b[38;5;241m.\u001b[39mget_suggested_actions()\n\u001b[0;32m---> 29\u001b[0m     \u001b[38;5;28;01mreturn\u001b[39;00m [\u001b[43maction\u001b[49m\u001b[38;5;241;43m.\u001b[39;49m\u001b[43msuggest\u001b[49m\u001b[43m(\u001b[49m\u001b[43m)\u001b[49m \u001b[38;5;28;01mfor\u001b[39;00m action \u001b[38;5;129;01min\u001b[39;00m suggested_actions]\n",
      "Cell \u001b[0;32mIn[4], line 54\u001b[0m, in \u001b[0;36mStepDown.suggest\u001b[0;34m(self)\u001b[0m\n\u001b[1;32m     52\u001b[0m \u001b[38;5;28;01mdef\u001b[39;00m \u001b[38;5;21msuggest\u001b[39m(\u001b[38;5;28mself\u001b[39m):\n\u001b[1;32m     53\u001b[0m     current_dose \u001b[38;5;241m=\u001b[39m \u001b[38;5;28mself\u001b[39m\u001b[38;5;241m.\u001b[39mpatient\u001b[38;5;241m.\u001b[39mcurrent_dose_of(\u001b[38;5;28mself\u001b[39m\u001b[38;5;241m.\u001b[39mingredient)\n\u001b[0;32m---> 54\u001b[0m     next_dose \u001b[38;5;241m=\u001b[39m \u001b[38;5;28;43mself\u001b[39;49m\u001b[38;5;241;43m.\u001b[39;49m\u001b[43mdosing_ladder\u001b[49m\u001b[38;5;241;43m.\u001b[39;49m\u001b[43mnext_dose_down\u001b[49m\u001b[43m(\u001b[49m\u001b[43mcurrent_dose\u001b[49m\u001b[43m)\u001b[49m\n\u001b[1;32m     55\u001b[0m     \u001b[38;5;28;01mreturn\u001b[39;00m \u001b[38;5;124mf\u001b[39m\u001b[38;5;124m\"\u001b[39m\u001b[38;5;124mDecrease \u001b[39m\u001b[38;5;132;01m{\u001b[39;00m\u001b[38;5;28mself\u001b[39m\u001b[38;5;241m.\u001b[39mingredient\u001b[38;5;241m.\u001b[39mname\u001b[38;5;132;01m}\u001b[39;00m\u001b[38;5;124m to \u001b[39m\u001b[38;5;132;01m{\u001b[39;00mnext_dose\u001b[38;5;132;01m}\u001b[39;00m\u001b[38;5;124m.\u001b[39m\u001b[38;5;124m\"\u001b[39m\n",
      "Cell \u001b[0;32mIn[2], line 22\u001b[0m, in \u001b[0;36mDosingLadder.next_dose_down\u001b[0;34m(self, current_med)\u001b[0m\n\u001b[1;32m     21\u001b[0m \u001b[38;5;28;01mdef\u001b[39;00m \u001b[38;5;21mnext_dose_down\u001b[39m(\u001b[38;5;28mself\u001b[39m, current_med):\n\u001b[0;32m---> 22\u001b[0m     current_dose_index \u001b[38;5;241m=\u001b[39m \u001b[38;5;28;43mself\u001b[39;49m\u001b[38;5;241;43m.\u001b[39;49m\u001b[43m_current_dose_index\u001b[49m\u001b[43m(\u001b[49m\u001b[43mcurrent_med\u001b[49m\u001b[43m)\u001b[49m\n\u001b[1;32m     23\u001b[0m     \u001b[38;5;28;01mreturn\u001b[39;00m \u001b[38;5;28mself\u001b[39m\u001b[38;5;241m.\u001b[39msteps[current_dose_index \u001b[38;5;241m-\u001b[39m \u001b[38;5;241m1\u001b[39m]\n",
      "Cell \u001b[0;32mIn[2], line 11\u001b[0m, in \u001b[0;36mDosingLadder._current_dose_index\u001b[0;34m(self, current_med)\u001b[0m\n\u001b[1;32m     10\u001b[0m \u001b[38;5;28;01mdef\u001b[39;00m \u001b[38;5;21m_current_dose_index\u001b[39m(\u001b[38;5;28mself\u001b[39m, current_med):\n\u001b[0;32m---> 11\u001b[0m     index \u001b[38;5;241m=\u001b[39m \u001b[38;5;28;43mnext\u001b[39;49m\u001b[43m(\u001b[49m\u001b[43m(\u001b[49m\u001b[43mi\u001b[49m\u001b[43m \u001b[49m\u001b[38;5;28;43;01mfor\u001b[39;49;00m\u001b[43m \u001b[49m\u001b[43mi\u001b[49m\u001b[43m,\u001b[49m\u001b[43m \u001b[49m\u001b[43mmed\u001b[49m\u001b[43m \u001b[49m\u001b[38;5;129;43;01min\u001b[39;49;00m\u001b[43m \u001b[49m\u001b[38;5;28;43menumerate\u001b[39;49m\u001b[43m(\u001b[49m\u001b[38;5;28;43mself\u001b[39;49m\u001b[38;5;241;43m.\u001b[39;49m\u001b[43msteps\u001b[49m\u001b[43m)\u001b[49m\u001b[43m \u001b[49m\u001b[38;5;28;43;01mif\u001b[39;49;00m\u001b[43m \u001b[49m\u001b[43mmed\u001b[49m\u001b[38;5;241;43m.\u001b[39;49m\u001b[43mdose\u001b[49m\u001b[43m \u001b[49m\u001b[38;5;241;43m==\u001b[39;49m\u001b[43m \u001b[49m\u001b[43mcurrent_med\u001b[49m\u001b[38;5;241;43m.\u001b[39;49m\u001b[43mdose\u001b[49m\u001b[43m)\u001b[49m\u001b[43m,\u001b[49m\u001b[43m \u001b[49m\u001b[38;5;28;43;01mNone\u001b[39;49;00m\u001b[43m)\u001b[49m\n\u001b[1;32m     12\u001b[0m     \u001b[38;5;28;01mreturn\u001b[39;00m index\n",
      "Cell \u001b[0;32mIn[2], line 11\u001b[0m, in \u001b[0;36m<genexpr>\u001b[0;34m(.0)\u001b[0m\n\u001b[1;32m     10\u001b[0m \u001b[38;5;28;01mdef\u001b[39;00m \u001b[38;5;21m_current_dose_index\u001b[39m(\u001b[38;5;28mself\u001b[39m, current_med):\n\u001b[0;32m---> 11\u001b[0m     index \u001b[38;5;241m=\u001b[39m \u001b[38;5;28mnext\u001b[39m((i \u001b[38;5;28;01mfor\u001b[39;00m i, med \u001b[38;5;129;01min\u001b[39;00m \u001b[38;5;28menumerate\u001b[39m(\u001b[38;5;28mself\u001b[39m\u001b[38;5;241m.\u001b[39msteps) \u001b[38;5;28;01mif\u001b[39;00m med\u001b[38;5;241m.\u001b[39mdose \u001b[38;5;241m==\u001b[39m \u001b[43mcurrent_med\u001b[49m\u001b[38;5;241;43m.\u001b[39;49m\u001b[43mdose\u001b[49m), \u001b[38;5;28;01mNone\u001b[39;00m)\n\u001b[1;32m     12\u001b[0m     \u001b[38;5;28;01mreturn\u001b[39;00m index\n",
      "\u001b[0;31mAttributeError\u001b[0m: 'NoneType' object has no attribute 'dose'"
     ]
    }
   ],
   "source": [
    "bb_tg.get_suggestion_texts()"
   ]
  },
  {
   "cell_type": "code",
   "execution_count": 45,
   "metadata": {},
   "outputs": [],
   "source": [
    "beta_blocker_dosing_ladder = DosingLadderGroup([metoprolol_ladder, carvedilol_ladder, bisoprolol_ladder])"
   ]
  },
  {
   "cell_type": "code",
   "execution_count": 46,
   "metadata": {},
   "outputs": [
    {
     "data": {
      "text/plain": [
       "{'metoprolol succinate': metoprolol succinate 12.5 mg PO daily,\n",
       " 'carvedilol': carvedilol 3.125 mg PO BID,\n",
       " 'bisoprolol': bisoprolol 1.25 mg PO BID}"
      ]
     },
     "execution_count": 46,
     "metadata": {},
     "output_type": "execute_result"
    }
   ],
   "source": [
    "beta_blocker_dosing_ladder.lowest_doses"
   ]
  },
  {
   "cell_type": "code",
   "execution_count": 47,
   "metadata": {},
   "outputs": [
    {
     "data": {
      "text/plain": [
       "{'metoprolol succinate': metoprolol succinate 100 mg PO daily,\n",
       " 'carvedilol': carvedilol 25 mg PO BID,\n",
       " 'bisoprolol': bisoprolol 10 mg PO BID}"
      ]
     },
     "execution_count": 47,
     "metadata": {},
     "output_type": "execute_result"
    }
   ],
   "source": [
    "beta_blocker_dosing_ladder.highest_doses"
   ]
  },
  {
   "cell_type": "code",
   "execution_count": 1,
   "metadata": {},
   "outputs": [],
   "source": [
    "from nbdev.export import nb_export\n",
    "\n",
    "nb_export('titrations.ipynb')"
   ]
  },
  {
   "cell_type": "code",
   "execution_count": null,
   "metadata": {},
   "outputs": [],
   "source": []
  }
 ],
 "metadata": {
  "kernelspec": {
   "display_name": "base",
   "language": "python",
   "name": "python3"
  },
  "language_info": {
   "codemirror_mode": {
    "name": "ipython",
    "version": 3
   },
   "file_extension": ".py",
   "mimetype": "text/x-python",
   "name": "python",
   "nbconvert_exporter": "python",
   "pygments_lexer": "ipython3",
   "version": "3.10.13"
  }
 },
 "nbformat": 4,
 "nbformat_minor": 2
}
