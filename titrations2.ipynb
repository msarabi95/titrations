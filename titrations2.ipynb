{
 "cells": [
  {
   "cell_type": "markdown",
   "metadata": {},
   "source": [
    "# Concepts\n",
    "## Dosing Ladder\n",
    "\n",
    "\n",
    "## Rule\n",
    "A rule has a `parameter`, `operation`, and a `threshold` such that running the `operation` on `parameter` and `threshold` always returns a boolean value (True or False). This value can be computed by running the method `is_satisfied`.\n",
    "The inner state of a `Rule` should be independent of any one patient.\n",
    "\n",
    "## Action\n",
    "A specific recommendation or action. It has three methods that can be defined for each specific action type: the first returns a text version, the second a clickable button, and the third implements what should be done when the button is clicked. `Action`s are specific to each patient.\n",
    "\n",
    "## Rule With Actions\n",
    "Extends `Rule` but also suggests a list of `Action`s depending on whether it is satisfied or not. These are defined by two attributes: `actions_when_satisfied` and `actions_when_not_satisfied`. In addition to `Action`s, these two attributes can hold other Rules with Actions. The method `get_suggested_actions` evaluates the `Rule` and selects the appropriate list of actions. If the list contains other Rules With Actions, these are evaluated recursively until the list only contains `Action`s.\n",
    "\n",
    "## Titrator\n",
    "The actual engine running the titration process. Has `checkpoints`, which is a list of `Rule(s)WithActions`. `checkpoints` indicates both initiation and titration rules, but these can be specified separately by defining `inititation_checkpoints` and `titration_checkpoints`.\n",
    "`Titrator`s are specific to each patient and medication class."
   ]
  },
  {
   "cell_type": "code",
   "execution_count": null,
   "metadata": {},
   "outputs": [],
   "source": [
    "#|export\n",
    "from typing import List, Dict, Any\n",
    "from titrations.basics import *"
   ]
  },
  {
   "cell_type": "markdown",
   "metadata": {},
   "source": [
    "# Dosing Ladder"
   ]
  },
  {
   "cell_type": "code",
   "execution_count": null,
   "metadata": {},
   "outputs": [],
   "source": [
    "#|export\n",
    "\n",
    "class DosingLadder:\n",
    "    ladder : Dict[str, List[Medication]]\n",
    "\n",
    "    def __init__(self, ladder_dict : Dict[str, List[Medication]], single_class : bool = True) -> None:\n",
    "        # TODO: ensure 'subladders' have the same number of steps\n",
    "\n",
    "        # TODO: ensure each subladder consists of the same ingredient\n",
    "\n",
    "        if single_class:\n",
    "            pass # TODO: ensure all medications are of the same class\n",
    "\n",
    "        self.ladder = ladder_dict\n",
    "        # self.ingredient = None\n",
    "        self.med_class = None\n",
    "\n",
    "    @property\n",
    "    def ingredients(self) -> List[Ingredient]:\n",
    "        # TODO this should be okay if the checks in `__init__` are implemented\n",
    "        return [self.ladder[med_name][0].ingredient for med_name in self.ladder]\n",
    "\n",
    "    def get_subladder(self, medication : Ingredient | Medication):\n",
    "        return self.ladder[medication.name]\n",
    "\n",
    "    def _get_current_step_index(self, current_med : Medication):\n",
    "        subladder = self.get_subladder(current_med)\n",
    "        index = next((i for i, med in enumerate(subladder) if med.dose == current_med.dose), None)\n",
    "        return index\n",
    "    \n",
    "    def _is_at_lowest_step(self, current_med : Medication):\n",
    "        return current_med.dose == self.get_lowest_step(current_med).dose\n",
    "\n",
    "    def _is_at_highest_step(self, current_med : Medication):\n",
    "        return current_med.dose == self.get_highest_step(current_med).dose\n",
    "    \n",
    "    def get_next_step_up(self, current_med : Medication):\n",
    "        current_dose_index = self._get_current_step_index(current_med)\n",
    "        return self.get_subladder(current_med)[current_dose_index + 1]\n",
    "\n",
    "    def get_next_step_down(self, current_med : Medication):\n",
    "        current_dose_index = self._get_current_step_index(current_med)\n",
    "        return self.get_subladder(current_med)[current_dose_index - 1]\n",
    "    \n",
    "    def get_lowest_step(self, medication: Ingredient | Medication):\n",
    "        return self.get_subladder(medication)[0]\n",
    "\n",
    "    def get_highest_step(self, medication: Ingredient | Medication):\n",
    "        return self.get_subladder(medication)[-1]\n",
    "    \n",
    "    def get_current_medication_for_patient(self, patient : Patient):\n",
    "        filtered = list(filter(lambda med: med.ingredient in self.ingredients, patient.medications))\n",
    "        assert len(filtered) <= 1\n",
    "        return filtered[0] if filtered else None\n",
    "    \n",
    "    @property\n",
    "    def lowest_steps(self):\n",
    "        return { med_name : self.ladder[med_name][0] for med_name in self.ladder}\n",
    "    \n",
    "    @property\n",
    "    def highest_steps(self):\n",
    "        return { med_name : self.ladder[med_name][-1] for med_name in self.ladder}"
   ]
  },
  {
   "cell_type": "code",
   "execution_count": null,
   "metadata": {},
   "outputs": [],
   "source": [
    "metoprolol_succinate = Ingredient(\"metoprolol succinate\")\n",
    "carvedilol = Ingredient(\"carvedilol\")\n",
    "bisoprolol = Ingredient(\"bisoprolol\")"
   ]
  },
  {
   "cell_type": "code",
   "execution_count": null,
   "metadata": {},
   "outputs": [],
   "source": [
    "beta_blocker_ladder = DosingLadder({\n",
    "    metoprolol_succinate.name: [\n",
    "        Medication(metoprolol_succinate, \"12.5 mg\", \"PO\", \"daily\"),\n",
    "        Medication(metoprolol_succinate, \"25 mg\", \"PO\", \"daily\"),\n",
    "        Medication(metoprolol_succinate, \"50 mg\", \"PO\", \"daily\"),\n",
    "        Medication(metoprolol_succinate, \"100 mg\", \"PO\", \"daily\"),\n",
    "    ],\n",
    "    carvedilol.name: [\n",
    "        Medication(carvedilol, \"3.125 mg\", \"PO\", \"BID\"),\n",
    "        Medication(carvedilol, \"6.25 mg\", \"PO\", \"BID\"),\n",
    "        Medication(carvedilol, \"12.5 mg\", \"PO\", \"BID\"),\n",
    "        Medication(carvedilol, \"25 mg\", \"PO\", \"BID\"),\n",
    "    ],\n",
    "    bisoprolol.name: [\n",
    "        Medication(bisoprolol, \"1.25 mg\", \"PO\", \"BID\"),\n",
    "        Medication(bisoprolol, \"2.5 mg\", \"PO\", \"BID\"),\n",
    "        Medication(bisoprolol, \"5 mg\", \"PO\", \"BID\"),\n",
    "        Medication(bisoprolol, \"10 mg\", \"PO\", \"BID\"),\n",
    "    ]\n",
    "})"
   ]
  },
  {
   "cell_type": "code",
   "execution_count": null,
   "metadata": {},
   "outputs": [],
   "source": [
    "beta_blocker_ladder.get_subladder(metoprolol_succinate)"
   ]
  },
  {
   "cell_type": "code",
   "execution_count": null,
   "metadata": {},
   "outputs": [],
   "source": [
    "beta_blocker_ladder.get_highest_step(metoprolol_succinate)"
   ]
  },
  {
   "cell_type": "code",
   "execution_count": null,
   "metadata": {},
   "outputs": [],
   "source": [
    "beta_blocker_ladder.get_lowest_step(metoprolol_succinate)"
   ]
  },
  {
   "cell_type": "code",
   "execution_count": null,
   "metadata": {},
   "outputs": [],
   "source": [
    "beta_blocker_ladder._get_current_step_index(\n",
    "    Medication(metoprolol_succinate, \"25 mg\", \"PO\", \"daily\")\n",
    "    )"
   ]
  },
  {
   "cell_type": "code",
   "execution_count": null,
   "metadata": {},
   "outputs": [],
   "source": [
    "beta_blocker_ladder._is_at_lowest_step(\n",
    "    Medication(metoprolol_succinate, \"12.5 mg\", \"PO\", \"daily\")\n",
    ")"
   ]
  },
  {
   "cell_type": "code",
   "execution_count": null,
   "metadata": {},
   "outputs": [],
   "source": [
    "beta_blocker_ladder._is_at_highest_step(\n",
    "    Medication(metoprolol_succinate, \"25 mg\", \"PO\", \"daily\")\n",
    ")"
   ]
  },
  {
   "cell_type": "code",
   "execution_count": null,
   "metadata": {},
   "outputs": [],
   "source": [
    "beta_blocker_ladder.get_next_step_up(\n",
    "    Medication(metoprolol_succinate, \"25 mg\", \"PO\", \"daily\")\n",
    ")"
   ]
  },
  {
   "cell_type": "code",
   "execution_count": null,
   "metadata": {},
   "outputs": [],
   "source": [
    "beta_blocker_ladder.get_next_step_down(\n",
    "    Medication(metoprolol_succinate, \"25 mg\", \"PO\", \"daily\")\n",
    ")"
   ]
  },
  {
   "cell_type": "code",
   "execution_count": null,
   "metadata": {},
   "outputs": [],
   "source": [
    "beta_blocker_ladder.lowest_doses"
   ]
  },
  {
   "cell_type": "code",
   "execution_count": null,
   "metadata": {},
   "outputs": [],
   "source": [
    "beta_blocker_ladder.highest_doses"
   ]
  },
  {
   "cell_type": "code",
   "execution_count": null,
   "metadata": {},
   "outputs": [],
   "source": [
    "p = Patient(medications=[Medication(metoprolol_succinate, \"25 mg\", \"PO\", \"daily\")])\n",
    "beta_blocker_ladder.get_current_medication_for_patient(p)"
   ]
  },
  {
   "cell_type": "markdown",
   "metadata": {},
   "source": [
    "# Rules"
   ]
  },
  {
   "cell_type": "code",
   "execution_count": null,
   "metadata": {},
   "outputs": [],
   "source": [
    "#|export\n",
    "import operator\n",
    "\n",
    "class Rule:\n",
    "    parameter : str\n",
    "    operation : str\n",
    "    threshold : Any\n",
    "\n",
    "    operators = {\n",
    "        \"gt\": operator.gt,\n",
    "        \"gte\": operator.ge,\n",
    "        \"lt\": operator.lt,\n",
    "        \"lte\": operator.le,\n",
    "        \"eq\": operator.eq,\n",
    "        \"neq\": operator.ne,\n",
    "        \"in\": operator.contains,\n",
    "    }\n",
    "\n",
    "    def __init__(self, parameter:str, operation:str, threshold:Any) -> None:\n",
    "        assert parameter in VALID_PARAMETERS, \"Not a valid parameter\"\n",
    "        assert operation in self.operators, f\"Invalid operator {operation}\"\n",
    "\n",
    "        self.parameter = parameter\n",
    "        self.operation = operation\n",
    "        self.threshold = threshold\n",
    "\n",
    "    def _is_satisfied(self, patient : Patient):\n",
    "        patient_value = getattr(patient, self.parameter, None)\n",
    "        if patient_value is None:  # FIXME: this should be reviewed again\n",
    "            if type(self.threshold) == bool: raise ValueError(f\"Patient has no attribute `{self.parameter}`.\")\n",
    "            else: return False\n",
    "\n",
    "        if self.operation == \"in\": return self.operators[self.operation](self.threshold, patient_value)\n",
    "        else: return self.operators[self.operation](patient_value, self.threshold)\n",
    "\n",
    "    def _get_eval_result_object(self, is_satisfied : bool) -> Any:\n",
    "        return type('RuleEvalResult', (), {\n",
    "            'is_satisfied': is_satisfied,\n",
    "        })\n",
    "\n",
    "    def evaluate(self, patient : Patient):\n",
    "        is_satisfied = self._is_satisfied(patient)\n",
    "        return self._get_eval_result_object(is_satisfied)\n",
    "    \n",
    "    def __repr__(self) -> str:\n",
    "        return f\"{self.parameter} {self.operation} {self.threshold}\""
   ]
  },
  {
   "cell_type": "code",
   "execution_count": null,
   "metadata": {},
   "outputs": [],
   "source": [
    "r = Rule('SBP', 'lt', 100)\n",
    "eval_result = r.evaluate(Patient(SBP=100))\n",
    "eval_result.is_satisfied"
   ]
  },
  {
   "cell_type": "code",
   "execution_count": null,
   "metadata": {},
   "outputs": [],
   "source": [
    "#|export\n",
    "\n",
    "class ConditionalRule(Rule):\n",
    "    condition : Rule\n",
    "\n",
    "    def __init__(self, parameter:str, operation:str, threshold:Any, condition:Rule) -> None:\n",
    "        super().__init__(parameter, operation, threshold)\n",
    "        self.condition = condition\n",
    "\n",
    "    def _condition_is_met(self, patient: Patient):\n",
    "        return self.condition.evaluate(patient).is_satisfied\n",
    "\n",
    "    def _is_satisfied(self, patient: Patient, condition_is_met: bool):\n",
    "        return super()._is_satisfied(patient) if condition_is_met else False\n",
    "\n",
    "    def evaluate(self, patient: Patient):\n",
    "        condition_is_met = self._condition_is_met(patient)\n",
    "        is_satisfied = self._is_satisfied(patient, condition_is_met)\n",
    "        return self._get_eval_result_object(is_satisfied)\n"
   ]
  },
  {
   "cell_type": "code",
   "execution_count": null,
   "metadata": {},
   "outputs": [],
   "source": [
    "no_pacemaker = Rule('has_pacemaker', 'eq', False)"
   ]
  },
  {
   "cell_type": "code",
   "execution_count": null,
   "metadata": {},
   "outputs": [],
   "source": [
    "p = Patient(HR=50, has_pacemaker=False)\n",
    "result = no_pacemaker.evaluate(p)\n",
    "result.is_satisfied"
   ]
  },
  {
   "cell_type": "code",
   "execution_count": null,
   "metadata": {},
   "outputs": [],
   "source": [
    "bradycardia = ConditionalRule('HR', 'lt', 60, condition=no_pacemaker)\n",
    "p = Patient(HR=80, has_pacemaker=False)\n",
    "bradycardia.evaluate(p).is_satisfied"
   ]
  },
  {
   "cell_type": "markdown",
   "metadata": {},
   "source": [
    "# Actions"
   ]
  },
  {
   "cell_type": "code",
   "execution_count": null,
   "metadata": {},
   "outputs": [],
   "source": [
    "#|export\n",
    "\n",
    "class Action:\n",
    "    \"\"\"\n",
    "    This is a base class for 'Action' classes to build upon.\n",
    "    \"\"\"\n",
    "    def __init__(self,\n",
    "                 patient : Patient,\n",
    "                 dosing_ladder : DosingLadder,\n",
    "                 current_medication : Medication):\n",
    "        self.patient = patient\n",
    "        self.dosing_ladder = dosing_ladder\n",
    "        self.current_medication = current_medication\n",
    "\n",
    "    def suggest(self):\n",
    "        pass\n",
    "\n",
    "    def perform(self):\n",
    "        pass"
   ]
  },
  {
   "cell_type": "code",
   "execution_count": null,
   "metadata": {},
   "outputs": [],
   "source": [
    "#|export\n",
    "\n",
    "class Start(Action):\n",
    "    \"\"\"\n",
    "    Start a new medication.\n",
    "    \"\"\"\n",
    "    def suggest(self):\n",
    "        lowest_steps = self.dosing_ladder.lowest_steps\n",
    "        meds = list(lowest_steps)\n",
    "        # TODO: this should only be done if the ladder has 3+ subladders\n",
    "        return f\"Start {', '.join([str(lowest_steps[med]) for med in meds[:-1]])}, or {str(lowest_steps[meds[-1]])}.\"\n",
    "\n",
    "    def perform(self):\n",
    "        pass"
   ]
  },
  {
   "cell_type": "code",
   "execution_count": null,
   "metadata": {},
   "outputs": [],
   "source": [
    "a = Start(p, beta_blocker_ladder)\n",
    "a.suggest()"
   ]
  },
  {
   "cell_type": "code",
   "execution_count": null,
   "metadata": {},
   "outputs": [],
   "source": [
    "d = {'a': 1, 'b': 2, 'c': 3}\n",
    "list(d)"
   ]
  },
  {
   "cell_type": "code",
   "execution_count": null,
   "metadata": {},
   "outputs": [],
   "source": [
    "#|export\n",
    "\n",
    "class DoNotStart(Action):\n",
    "    \"\"\"\n",
    "    Do not start a new medication.\n",
    "    \"\"\"\n",
    "    def suggest(self):\n",
    "        # TODO: modify to suggest not starting a class\n",
    "        pass\n",
    "\n",
    "    def perform(self):\n",
    "        pass"
   ]
  },
  {
   "cell_type": "code",
   "execution_count": null,
   "metadata": {},
   "outputs": [],
   "source": [
    "#|export\n",
    "\n",
    "class StepUp(Action):\n",
    "    \"\"\"\n",
    "    Step up one dose on the dosing ladder.\n",
    "    \"\"\"\n",
    "    def suggest(self):\n",
    "        next_step_up = self.dosing_ladder.get_next_step_up(self.current_medication)\n",
    "        return f\"Increase {self.current_medication.name} to {str(next_step_up)}.\"\n",
    "\n",
    "    def perform(self):\n",
    "        pass"
   ]
  },
  {
   "cell_type": "code",
   "execution_count": null,
   "metadata": {},
   "outputs": [],
   "source": [
    "#|export\n",
    "\n",
    "class StepDown(Action):\n",
    "    \"\"\"\n",
    "    Step down one dose on the dosing ladder.\n",
    "    \"\"\"\n",
    "    def suggest(self):\n",
    "        next_step_down = self.dosing_ladder.get_next_step_down(self.current_medication)\n",
    "        return f\"Decrease {self.current_medication.name} to {str(next_step_down)}.\"\n",
    "\n",
    "    def perform(self):\n",
    "        pass"
   ]
  },
  {
   "cell_type": "code",
   "execution_count": null,
   "metadata": {},
   "outputs": [],
   "source": [
    "#|export\n",
    "\n",
    "class Continue(Action):\n",
    "    \"\"\"\n",
    "    Continue the medication at the same dose.\n",
    "    \"\"\"\n",
    "    def suggest(self):\n",
    "        return f\"Continue {str(self.current_medication)}.\"\n",
    "\n",
    "    def perform(self):\n",
    "        pass"
   ]
  },
  {
   "cell_type": "code",
   "execution_count": null,
   "metadata": {},
   "outputs": [],
   "source": [
    "#|export\n",
    "\n",
    "class Stop(Action):\n",
    "    \"\"\"\n",
    "    Stop the medication.\n",
    "    \"\"\"\n",
    "    def suggest(self):\n",
    "        return f\"Stop {self.current_medication.name}.\"\n",
    "\n",
    "    def perform(self):\n",
    "        pass"
   ]
  },
  {
   "cell_type": "code",
   "execution_count": null,
   "metadata": {},
   "outputs": [],
   "source": [
    "#|export\n",
    "\n",
    "class MarkMaxDose(Action):\n",
    "    \"\"\"\n",
    "    Mark current dose as maxiumum tolerated dose.\n",
    "    \"\"\"\n",
    "    def suggest(self):\n",
    "        return f\"Mark {str(self.current_medication)} as maximum tolerated dose.\"\n",
    "    \n",
    "    def perform(self):\n",
    "        pass"
   ]
  },
  {
   "cell_type": "code",
   "execution_count": null,
   "metadata": {},
   "outputs": [],
   "source": [
    "#|export\n",
    "class ReportReaction(Action):\n",
    "    \"\"\"\n",
    "    File an adverse reaction record.\n",
    "    \"\"\"\n",
    "    def suggest(self):\n",
    "        return f\"File an adverse reaction to {self.current_medication.name}\"\n",
    "\n",
    "    def perform(self, description=\"reaction\"):\n",
    "        # In real life, this could be opening a modal for entering adverse reactions instead\n",
    "        self.patient.reactions.append(\n",
    "            Reaction(self.current_medication.ingredient, description),\n",
    "        )"
   ]
  },
  {
   "cell_type": "markdown",
   "metadata": {},
   "source": [
    "# Rules With Actions"
   ]
  },
  {
   "cell_type": "code",
   "execution_count": null,
   "metadata": {},
   "outputs": [],
   "source": [
    "#|export\n",
    "\n",
    "class RuleWithActions(Rule):\n",
    "    actions_when_satisfied : List[Any] = []\n",
    "    actions_when_not_satisfied : List[Any] = []\n",
    "    \n",
    "    def __init__(self,\n",
    "                 parameter: str, operation: str, threshold: Any,\n",
    "                 additional_actions_when_satisfied: List[Any] = [],\n",
    "                 additional_actions_when_not_satisfied: List[Any] = []) -> None:\n",
    "        super().__init__(parameter, operation, threshold)\n",
    "        self.actions_when_satisfied.extend(additional_actions_when_satisfied)\n",
    "        self.actions_when_not_satisfied.extend(additional_actions_when_not_satisfied)\n",
    "\n",
    "    def _get_eval_result_object(self, is_satisfied: bool) -> Any:\n",
    "        result = super()._get_eval_result_object(is_satisfied)\n",
    "\n",
    "        recommended_actions = self.actions_when_satisfied if is_satisfied \\\n",
    "            else self.actions_when_not_satisfied\n",
    "        result.recommended_actions = recommended_actions\n",
    "        return result\n",
    "\n",
    "class ConditionalRuleWithActions(ConditionalRule, RuleWithActions):\n",
    "    pass"
   ]
  },
  {
   "cell_type": "code",
   "execution_count": null,
   "metadata": {},
   "outputs": [],
   "source": [
    "r = RuleWithActions('SBP', 'lt', 90,\n",
    "                    additional_actions_when_satisfied=['Evaluate for hypotension'],\n",
    "                    additional_actions_when_not_satisfied=['Continue'])\n",
    "p = Patient(SBP=60)\n",
    "r.evaluate(p).__dict__"
   ]
  },
  {
   "cell_type": "markdown",
   "metadata": {},
   "source": [
    "# Titrator"
   ]
  },
  {
   "cell_type": "code",
   "execution_count": null,
   "metadata": {},
   "outputs": [],
   "source": [
    "#|export\n",
    "class Titrator:\n",
    "    patient : Patient\n",
    "    dosing_ladder : DosingLadder\n",
    "\n",
    "    current_medication : Medication\n",
    "    \n",
    "    titration_target : Rule\n",
    "\n",
    "    rules : List[RuleWithActions]\n",
    "    initiation_rules : List[RuleWithActions]\n",
    "    titration_rules = List[RuleWithActions]\n",
    "\n",
    "    def __init__(self, patient : Patient,\n",
    "                 dosing_ladder : DosingLadder) -> None:\n",
    "        self.patient = patient\n",
    "        self.dosing_ladder = dosing_ladder\n",
    "\n",
    "        self.current_medication = self.dosing_ladder.get_current_medication_for_patient(patient)\n",
    "\n",
    "    @property\n",
    "    def current_ingredient(self) -> Ingredient:\n",
    "        return self.current_medication.ingredient if self.current_medication else None\n",
    "\n",
    "    @property\n",
    "    def is_initiating(self) -> bool:\n",
    "        return self.current_medication == None\n",
    "\n",
    "    @property\n",
    "    def is_titrating(self) -> bool:\n",
    "        return not self.is_initiating\n"
   ]
  },
  {
   "cell_type": "code",
   "execution_count": null,
   "metadata": {},
   "outputs": [],
   "source": [
    "t = Titrator(p, beta_blocker_ladder)"
   ]
  },
  {
   "cell_type": "code",
   "execution_count": null,
   "metadata": {},
   "outputs": [],
   "source": [
    "t.current_ingredient"
   ]
  },
  {
   "cell_type": "code",
   "execution_count": null,
   "metadata": {},
   "outputs": [],
   "source": [
    "t.is_initiating"
   ]
  },
  {
   "cell_type": "code",
   "execution_count": null,
   "metadata": {},
   "outputs": [],
   "source": [
    "t.is_titrating"
   ]
  }
 ],
 "metadata": {
  "kernelspec": {
   "display_name": "base",
   "language": "python",
   "name": "python3"
  },
  "language_info": {
   "codemirror_mode": {
    "name": "ipython",
    "version": 3
   },
   "file_extension": ".py",
   "mimetype": "text/x-python",
   "name": "python",
   "nbconvert_exporter": "python",
   "pygments_lexer": "ipython3",
   "version": "3.10.13"
  }
 },
 "nbformat": 4,
 "nbformat_minor": 2
}
