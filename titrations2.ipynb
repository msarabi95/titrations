{
 "cells": [
  {
   "cell_type": "code",
   "execution_count": null,
   "metadata": {},
   "outputs": [],
   "source": [
    "#|export\n",
    "from typing import List, Dict, Any\n",
    "from titrations.basics import *"
   ]
  },
  {
   "cell_type": "code",
   "execution_count": null,
   "metadata": {},
   "outputs": [],
   "source": [
    "#|export\n",
    "\n",
    "class DosingLadder:\n",
    "    ladder : Dict[str, List[Medication]]\n",
    "\n",
    "    def __init__(self, ladder_dict : Dict[str, List[Medication]], single_class : bool = True) -> None:\n",
    "        # TODO: ensure 'subladders' have the same number of steps\n",
    "\n",
    "        # TODO: ensure each subladder consists of the same ingredient\n",
    "\n",
    "        if single_class:\n",
    "            pass # TODO: ensure all medications are of the same class\n",
    "\n",
    "        self.ladder = ladder_dict\n",
    "        # self.ingredient = None\n",
    "        self.med_class = None\n",
    "\n",
    "    @property\n",
    "    def ingredients(self) -> List[Ingredient]:\n",
    "        # TODO this should be okay if the checks in `__init__` are implemented\n",
    "        return [self.ladder[med_name][0].ingredient for med_name in self.ladder]\n",
    "\n",
    "    def get_subladder(self, medication : Ingredient | Medication):\n",
    "        return self.ladder[medication.name]\n",
    "\n",
    "    def _get_current_step_index(self, current_med : Medication):\n",
    "        subladder = self.get_subladder(current_med)\n",
    "        index = next((i for i, med in enumerate(subladder) if med.dose == current_med.dose), None)\n",
    "        return index\n",
    "    \n",
    "    def _is_at_lowest_step(self, current_med : Medication):\n",
    "        return current_med.dose == self.get_lowest_step(current_med).dose\n",
    "\n",
    "    def _is_at_highest_step(self, current_med : Medication):\n",
    "        return current_med.dose == self.get_highest_step(current_med).dose\n",
    "    \n",
    "    def get_next_step_up(self, current_med : Medication):\n",
    "        current_dose_index = self._get_current_step_index(current_med)\n",
    "        return self.get_subladder(current_med)[current_dose_index + 1]\n",
    "\n",
    "    def get_next_step_down(self, current_med : Medication):\n",
    "        current_dose_index = self._get_current_step_index(current_med)\n",
    "        return self.get_subladder(current_med)[current_dose_index - 1]\n",
    "    \n",
    "    def get_lowest_step(self, medication: Ingredient | Medication):\n",
    "        return self.get_subladder(medication)[0]\n",
    "\n",
    "    def get_highest_step(self, medication: Ingredient | Medication):\n",
    "        return self.get_subladder(medication)[-1]\n",
    "    \n",
    "    def get_current_medication_for_patient(self, patient : Patient):\n",
    "        filtered = list(filter(lambda med: med.ingredient in self.ingredients, patient.medications))\n",
    "        assert len(filtered) <= 1\n",
    "        return filtered[0] if filtered else None\n",
    "    \n",
    "    @property\n",
    "    def lowest_doses(self):\n",
    "        return { med_name : self.ladder[med_name][0] for med_name in self.ladder}\n",
    "    \n",
    "    @property\n",
    "    def highest_doses(self):\n",
    "        return { med_name : self.ladder[med_name][-1] for med_name in self.ladder}"
   ]
  },
  {
   "cell_type": "code",
   "execution_count": null,
   "metadata": {},
   "outputs": [],
   "source": [
    "metoprolol_succinate = Ingredient(\"metoprolol succinate\")\n",
    "carvedilol = Ingredient(\"carvedilol\")\n",
    "bisoprolol = Ingredient(\"bisoprolol\")"
   ]
  },
  {
   "cell_type": "code",
   "execution_count": null,
   "metadata": {},
   "outputs": [],
   "source": [
    "beta_blocker_ladder = DosingLadder({\n",
    "    metoprolol_succinate.name: [\n",
    "        Medication(metoprolol_succinate, \"12.5 mg\", \"PO\", \"daily\"),\n",
    "        Medication(metoprolol_succinate, \"25 mg\", \"PO\", \"daily\"),\n",
    "        Medication(metoprolol_succinate, \"50 mg\", \"PO\", \"daily\"),\n",
    "        Medication(metoprolol_succinate, \"100 mg\", \"PO\", \"daily\"),\n",
    "    ],\n",
    "    carvedilol.name: [\n",
    "        Medication(carvedilol, \"3.125 mg\", \"PO\", \"BID\"),\n",
    "        Medication(carvedilol, \"6.25 mg\", \"PO\", \"BID\"),\n",
    "        Medication(carvedilol, \"12.5 mg\", \"PO\", \"BID\"),\n",
    "        Medication(carvedilol, \"25 mg\", \"PO\", \"BID\"),\n",
    "    ],\n",
    "    bisoprolol.name: [\n",
    "        Medication(bisoprolol, \"1.25 mg\", \"PO\", \"BID\"),\n",
    "        Medication(bisoprolol, \"2.5 mg\", \"PO\", \"BID\"),\n",
    "        Medication(bisoprolol, \"5 mg\", \"PO\", \"BID\"),\n",
    "        Medication(bisoprolol, \"10 mg\", \"PO\", \"BID\"),\n",
    "    ]\n",
    "})"
   ]
  },
  {
   "cell_type": "code",
   "execution_count": null,
   "metadata": {},
   "outputs": [],
   "source": [
    "beta_blocker_ladder.get_subladder(metoprolol_succinate)"
   ]
  },
  {
   "cell_type": "code",
   "execution_count": null,
   "metadata": {},
   "outputs": [],
   "source": [
    "beta_blocker_ladder.get_highest_step(metoprolol_succinate)"
   ]
  },
  {
   "cell_type": "code",
   "execution_count": null,
   "metadata": {},
   "outputs": [],
   "source": [
    "beta_blocker_ladder.get_lowest_step(metoprolol_succinate)"
   ]
  },
  {
   "cell_type": "code",
   "execution_count": null,
   "metadata": {},
   "outputs": [],
   "source": [
    "beta_blocker_ladder._get_current_step_index(\n",
    "    Medication(metoprolol_succinate, \"25 mg\", \"PO\", \"daily\")\n",
    "    )"
   ]
  },
  {
   "cell_type": "code",
   "execution_count": null,
   "metadata": {},
   "outputs": [],
   "source": [
    "beta_blocker_ladder._is_at_lowest_step(\n",
    "    Medication(metoprolol_succinate, \"12.5 mg\", \"PO\", \"daily\")\n",
    ")"
   ]
  },
  {
   "cell_type": "code",
   "execution_count": null,
   "metadata": {},
   "outputs": [],
   "source": [
    "beta_blocker_ladder._is_at_highest_step(\n",
    "    Medication(metoprolol_succinate, \"25 mg\", \"PO\", \"daily\")\n",
    ")"
   ]
  },
  {
   "cell_type": "code",
   "execution_count": null,
   "metadata": {},
   "outputs": [],
   "source": [
    "beta_blocker_ladder.get_next_step_up(\n",
    "    Medication(metoprolol_succinate, \"25 mg\", \"PO\", \"daily\")\n",
    ")"
   ]
  },
  {
   "cell_type": "code",
   "execution_count": null,
   "metadata": {},
   "outputs": [],
   "source": [
    "beta_blocker_ladder.get_next_step_down(\n",
    "    Medication(metoprolol_succinate, \"25 mg\", \"PO\", \"daily\")\n",
    ")"
   ]
  },
  {
   "cell_type": "code",
   "execution_count": null,
   "metadata": {},
   "outputs": [],
   "source": [
    "beta_blocker_ladder.lowest_doses"
   ]
  },
  {
   "cell_type": "code",
   "execution_count": null,
   "metadata": {},
   "outputs": [],
   "source": [
    "beta_blocker_ladder.highest_doses"
   ]
  },
  {
   "cell_type": "code",
   "execution_count": null,
   "metadata": {},
   "outputs": [],
   "source": [
    "p = Patient(medications=[Medication(metoprolol_succinate, \"25 mg\", \"PO\", \"daily\")])\n",
    "beta_blocker_ladder.get_current_medication_for_patient(p)"
   ]
  },
  {
   "cell_type": "code",
   "execution_count": 84,
   "metadata": {},
   "outputs": [],
   "source": [
    "#|export\n",
    "import operator\n",
    "\n",
    "class Rule:\n",
    "    patient : Patient\n",
    "\n",
    "    parameter : str\n",
    "    operation : str\n",
    "    threshold : Any\n",
    "\n",
    "    operators = {\n",
    "        \"gt\": operator.gt,\n",
    "        \"gte\": operator.ge,\n",
    "        \"lt\": operator.lt,\n",
    "        \"lte\": operator.le,\n",
    "        \"eq\": operator.eq,\n",
    "        \"neq\": operator.ne,\n",
    "        \"in\": operator.contains,\n",
    "    }\n",
    "\n",
    "    def __init__(self, parameter:str, operation:str, threshold:Any) -> None:\n",
    "        assert parameter in VALID_PARAMETERS, \"Not a valid parameter\"\n",
    "        assert operation in self.operators, f\"Invalid operator {operation}\"\n",
    "\n",
    "        self.parameter = parameter\n",
    "        self.operation = operation\n",
    "        self.threshold = threshold\n",
    "\n",
    "    def _is_satisfied(self, patient : Patient):\n",
    "        patient_value = getattr(patient, self.parameter, None)\n",
    "        if not patient_value: return False\n",
    "\n",
    "        if self.operation == \"in\": return self.operators[self.operation](self.threshold, patient_value)\n",
    "        else: return self.operators[self.operation](patient_value, self.threshold)\n",
    "\n",
    "    def _get_eval_result_object(self, is_satisfied : bool) -> Any:\n",
    "        return type('RuleEvalResult', (), {\n",
    "            'is_satisfied': is_satisfied,\n",
    "        })\n",
    "\n",
    "    def evaluate(self, patient : Patient):\n",
    "        is_satisfied = self._is_satisfied(patient)\n",
    "        return self._get_eval_result_object(is_satisfied)\n",
    "    \n",
    "    def __repr__(self) -> str:\n",
    "        return f\"{self.parameter} {self.operation} {self.threshold}\""
   ]
  },
  {
   "cell_type": "code",
   "execution_count": 85,
   "metadata": {},
   "outputs": [
    {
     "data": {
      "text/plain": [
       "False"
      ]
     },
     "execution_count": 85,
     "metadata": {},
     "output_type": "execute_result"
    }
   ],
   "source": [
    "r = Rule('SBP', 'lt', 100)\n",
    "eval_result = r.evaluate(Patient(SBP=100))\n",
    "eval_result.is_satisfied"
   ]
  },
  {
   "cell_type": "code",
   "execution_count": 87,
   "metadata": {},
   "outputs": [],
   "source": [
    "#|export\n",
    "class ConditionalRule(Rule):\n",
    "    condition : Rule"
   ]
  },
  {
   "cell_type": "code",
   "execution_count": null,
   "metadata": {},
   "outputs": [],
   "source": [
    "#|export\n",
    "class Titrator:\n",
    "    patient : Patient\n",
    "    dosing_ladder : DosingLadder\n",
    "\n",
    "    current_medication : Medication\n",
    "    \n",
    "    titration_target = None\n",
    "\n",
    "    rules = None\n",
    "    initiation_rules = None\n",
    "    titration_rules = None\n",
    "\n",
    "    def __init__(self, patient : Patient,\n",
    "                 dosing_ladder : DosingLadder) -> None:\n",
    "        self.patient = patient\n",
    "        self.dosing_ladder = dosing_ladder\n",
    "\n",
    "        self.current_medication = self.dosing_ladder.get_current_medication_for_patient(patient)\n",
    "\n",
    "    @property\n",
    "    def current_ingredient(self) -> Ingredient:\n",
    "        return self.current_medication.ingredient if self.current_medication else None\n",
    "\n",
    "    @property\n",
    "    def is_initiating(self) -> bool:\n",
    "        return self.current_medication == None\n",
    "\n",
    "    @property\n",
    "    def is_titrating(self) -> bool:\n",
    "        return not self.is_initiating\n"
   ]
  },
  {
   "cell_type": "code",
   "execution_count": null,
   "metadata": {},
   "outputs": [],
   "source": [
    "t = Titrator(p, beta_blocker_ladder)"
   ]
  },
  {
   "cell_type": "code",
   "execution_count": null,
   "metadata": {},
   "outputs": [],
   "source": [
    "t.current_ingredient"
   ]
  },
  {
   "cell_type": "code",
   "execution_count": null,
   "metadata": {},
   "outputs": [],
   "source": [
    "t.is_initiating"
   ]
  },
  {
   "cell_type": "code",
   "execution_count": null,
   "metadata": {},
   "outputs": [],
   "source": [
    "t.is_titrating"
   ]
  }
 ],
 "metadata": {
  "kernelspec": {
   "display_name": "base",
   "language": "python",
   "name": "python3"
  },
  "language_info": {
   "codemirror_mode": {
    "name": "ipython",
    "version": 3
   },
   "file_extension": ".py",
   "mimetype": "text/x-python",
   "name": "python",
   "nbconvert_exporter": "python",
   "pygments_lexer": "ipython3",
   "version": "3.10.13"
  }
 },
 "nbformat": 4,
 "nbformat_minor": 2
}
