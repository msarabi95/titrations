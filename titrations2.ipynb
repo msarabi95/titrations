{
 "cells": [
  {
   "cell_type": "code",
   "execution_count": 129,
   "metadata": {},
   "outputs": [],
   "source": [
    "#|default_exp titrations2"
   ]
  },
  {
   "cell_type": "code",
   "execution_count": 130,
   "metadata": {},
   "outputs": [],
   "source": [
    "#|export\n",
    "from typing import List, Dict, Any, Optional\n",
    "from titrations.basics import *"
   ]
  },
  {
   "cell_type": "markdown",
   "metadata": {},
   "source": [
    "# Concepts"
   ]
  },
  {
   "cell_type": "markdown",
   "metadata": {},
   "source": [
    "\n",
    "## Dosing Ladder\n",
    "\n",
    "\n",
    "## Rule\n",
    "A rule has a `parameter`, `operation`, and a `threshold` such that running the `operation` on `parameter` and `threshold` always returns a boolean value (True or False). This value can be computed by running the method `is_satisfied`.\n",
    "The inner state of a `Rule` should be independent of any one patient.\n",
    "\n",
    "## Action\n",
    "A specific recommendation or action. It has three methods that can be defined for each specific action type: the first returns a text version, the second a clickable button, and the third implements what should be done when the button is clicked. `Action`s are specific to each patient.\n",
    "\n",
    "## Rule With Actions\n",
    "Extends `Rule` but also suggests a list of `Action`s depending on whether it is satisfied or not. These are defined by two attributes: `actions_when_satisfied` and `actions_when_not_satisfied`. In addition to `Action`s, these two attributes can hold other Rules with Actions. The method `get_suggested_actions` evaluates the `Rule` and selects the appropriate list of actions. If the list contains other Rules With Actions, these are evaluated recursively until the list only contains `Action`s.\n",
    "\n",
    "## Titrator\n",
    "The actual engine running the titration process. Has `checkpoints`, which is a list of `Rule(s)WithActions`. `checkpoints` indicates both initiation and titration rules, but these can be specified separately by defining `inititation_checkpoints` and `titration_checkpoints`.\n",
    "`Titrator`s are specific to each patient and medication class."
   ]
  },
  {
   "cell_type": "markdown",
   "metadata": {},
   "source": [
    "# Dosing Ladder"
   ]
  },
  {
   "cell_type": "code",
   "execution_count": 131,
   "metadata": {},
   "outputs": [],
   "source": [
    "#|export\n",
    "\n",
    "class DosingLadder:\n",
    "    ladder : Dict[str, List[Medication]]\n",
    "\n",
    "    def __init__(self, ladder_dict : Dict[str, List[Medication]], single_class : bool = True) -> None:\n",
    "        # TODO: ensure 'subladders' have the same number of steps\n",
    "\n",
    "        # TODO: ensure each subladder consists of the same ingredient\n",
    "\n",
    "        if single_class:\n",
    "            pass # TODO: ensure all medications are of the same class\n",
    "\n",
    "        self.ladder = ladder_dict\n",
    "        # self.ingredient = None\n",
    "        self.med_class = None\n",
    "\n",
    "    @property\n",
    "    def ingredients(self) -> List[Ingredient]:\n",
    "        # TODO this should be okay if the checks in `__init__` are implemented\n",
    "        return [self.ladder[med_name][0].ingredient for med_name in self.ladder]\n",
    "\n",
    "    def get_subladder(self, medication : Ingredient | Medication):\n",
    "        return self.ladder[medication.name]\n",
    "\n",
    "    def _get_current_step_index(self, current_med : Medication):\n",
    "        subladder = self.get_subladder(current_med)\n",
    "        index = next((i for i, med in enumerate(subladder) if med.dose == current_med.dose), None)\n",
    "        return index\n",
    "    \n",
    "    def _is_at_lowest_step(self, current_med : Medication):\n",
    "        return current_med.dose == self.get_lowest_step(current_med).dose\n",
    "\n",
    "    def _is_at_highest_step(self, current_med : Medication):\n",
    "        return current_med.dose == self.get_highest_step(current_med).dose\n",
    "    \n",
    "    def get_next_step_up(self, current_med : Medication):\n",
    "        current_dose_index = self._get_current_step_index(current_med)\n",
    "        return self.get_subladder(current_med)[current_dose_index + 1]\n",
    "\n",
    "    def get_next_step_down(self, current_med : Medication):\n",
    "        current_dose_index = self._get_current_step_index(current_med)\n",
    "        return self.get_subladder(current_med)[current_dose_index - 1]\n",
    "    \n",
    "    def get_lowest_step(self, medication: Ingredient | Medication):\n",
    "        return self.get_subladder(medication)[0]\n",
    "\n",
    "    def get_highest_step(self, medication: Ingredient | Medication):\n",
    "        return self.get_subladder(medication)[-1]\n",
    "    \n",
    "    def get_current_medication_for_patient(self, patient : Patient):\n",
    "        filtered = list(filter(lambda med: med.ingredient in self.ingredients, patient.medications))\n",
    "        assert len(filtered) <= 1\n",
    "        return filtered[0] if filtered else None\n",
    "    \n",
    "    @property\n",
    "    def lowest_steps(self):\n",
    "        return { med_name : self.ladder[med_name][0] for med_name in self.ladder}\n",
    "    \n",
    "    @property\n",
    "    def highest_steps(self):\n",
    "        return { med_name : self.ladder[med_name][-1] for med_name in self.ladder}"
   ]
  },
  {
   "cell_type": "code",
   "execution_count": 132,
   "metadata": {},
   "outputs": [],
   "source": [
    "beta_blocker_class = MedicationClass(\"Beta Blocker\")\n",
    "\n",
    "metoprolol_succinate = Ingredient(\"metoprolol succinate\", beta_blocker_class)\n",
    "carvedilol = Ingredient(\"carvedilol\", beta_blocker_class)\n",
    "bisoprolol = Ingredient(\"bisoprolol\", beta_blocker_class)"
   ]
  },
  {
   "cell_type": "code",
   "execution_count": 133,
   "metadata": {},
   "outputs": [],
   "source": [
    "beta_blocker_ladder = DosingLadder({\n",
    "    metoprolol_succinate.name: [\n",
    "        Medication(metoprolol_succinate, \"12.5 mg\", \"PO\", \"daily\"),\n",
    "        Medication(metoprolol_succinate, \"25 mg\", \"PO\", \"daily\"),\n",
    "        Medication(metoprolol_succinate, \"50 mg\", \"PO\", \"daily\"),\n",
    "        Medication(metoprolol_succinate, \"100 mg\", \"PO\", \"daily\"),\n",
    "    ],\n",
    "    carvedilol.name: [\n",
    "        Medication(carvedilol, \"3.125 mg\", \"PO\", \"BID\"),\n",
    "        Medication(carvedilol, \"6.25 mg\", \"PO\", \"BID\"),\n",
    "        Medication(carvedilol, \"12.5 mg\", \"PO\", \"BID\"),\n",
    "        Medication(carvedilol, \"25 mg\", \"PO\", \"BID\"),\n",
    "    ],\n",
    "    bisoprolol.name: [\n",
    "        Medication(bisoprolol, \"1.25 mg\", \"PO\", \"BID\"),\n",
    "        Medication(bisoprolol, \"2.5 mg\", \"PO\", \"BID\"),\n",
    "        Medication(bisoprolol, \"5 mg\", \"PO\", \"BID\"),\n",
    "        Medication(bisoprolol, \"10 mg\", \"PO\", \"BID\"),\n",
    "    ]\n",
    "})"
   ]
  },
  {
   "cell_type": "code",
   "execution_count": 134,
   "metadata": {},
   "outputs": [
    {
     "data": {
      "text/plain": [
       "[metoprolol succinate 12.5 mg PO daily,\n",
       " metoprolol succinate 25 mg PO daily,\n",
       " metoprolol succinate 50 mg PO daily,\n",
       " metoprolol succinate 100 mg PO daily]"
      ]
     },
     "execution_count": 134,
     "metadata": {},
     "output_type": "execute_result"
    }
   ],
   "source": [
    "beta_blocker_ladder.get_subladder(metoprolol_succinate)"
   ]
  },
  {
   "cell_type": "code",
   "execution_count": 135,
   "metadata": {},
   "outputs": [
    {
     "data": {
      "text/plain": [
       "metoprolol succinate 100 mg PO daily"
      ]
     },
     "execution_count": 135,
     "metadata": {},
     "output_type": "execute_result"
    }
   ],
   "source": [
    "beta_blocker_ladder.get_highest_step(metoprolol_succinate)"
   ]
  },
  {
   "cell_type": "code",
   "execution_count": 136,
   "metadata": {},
   "outputs": [
    {
     "data": {
      "text/plain": [
       "metoprolol succinate 12.5 mg PO daily"
      ]
     },
     "execution_count": 136,
     "metadata": {},
     "output_type": "execute_result"
    }
   ],
   "source": [
    "beta_blocker_ladder.get_lowest_step(metoprolol_succinate)"
   ]
  },
  {
   "cell_type": "code",
   "execution_count": 137,
   "metadata": {},
   "outputs": [
    {
     "data": {
      "text/plain": [
       "1"
      ]
     },
     "execution_count": 137,
     "metadata": {},
     "output_type": "execute_result"
    }
   ],
   "source": [
    "beta_blocker_ladder._get_current_step_index(\n",
    "    Medication(metoprolol_succinate, \"25 mg\", \"PO\", \"daily\")\n",
    "    )"
   ]
  },
  {
   "cell_type": "code",
   "execution_count": 138,
   "metadata": {},
   "outputs": [
    {
     "data": {
      "text/plain": [
       "True"
      ]
     },
     "execution_count": 138,
     "metadata": {},
     "output_type": "execute_result"
    }
   ],
   "source": [
    "beta_blocker_ladder._is_at_lowest_step(\n",
    "    Medication(metoprolol_succinate, \"12.5 mg\", \"PO\", \"daily\")\n",
    ")"
   ]
  },
  {
   "cell_type": "code",
   "execution_count": 139,
   "metadata": {},
   "outputs": [
    {
     "data": {
      "text/plain": [
       "False"
      ]
     },
     "execution_count": 139,
     "metadata": {},
     "output_type": "execute_result"
    }
   ],
   "source": [
    "beta_blocker_ladder._is_at_highest_step(\n",
    "    Medication(metoprolol_succinate, \"25 mg\", \"PO\", \"daily\")\n",
    ")"
   ]
  },
  {
   "cell_type": "code",
   "execution_count": 140,
   "metadata": {},
   "outputs": [
    {
     "data": {
      "text/plain": [
       "metoprolol succinate 50 mg PO daily"
      ]
     },
     "execution_count": 140,
     "metadata": {},
     "output_type": "execute_result"
    }
   ],
   "source": [
    "beta_blocker_ladder.get_next_step_up(\n",
    "    Medication(metoprolol_succinate, \"25 mg\", \"PO\", \"daily\")\n",
    ")"
   ]
  },
  {
   "cell_type": "code",
   "execution_count": 141,
   "metadata": {},
   "outputs": [
    {
     "data": {
      "text/plain": [
       "metoprolol succinate 12.5 mg PO daily"
      ]
     },
     "execution_count": 141,
     "metadata": {},
     "output_type": "execute_result"
    }
   ],
   "source": [
    "beta_blocker_ladder.get_next_step_down(\n",
    "    Medication(metoprolol_succinate, \"25 mg\", \"PO\", \"daily\")\n",
    ")"
   ]
  },
  {
   "cell_type": "code",
   "execution_count": 142,
   "metadata": {},
   "outputs": [
    {
     "data": {
      "text/plain": [
       "{'metoprolol succinate': metoprolol succinate 12.5 mg PO daily,\n",
       " 'carvedilol': carvedilol 3.125 mg PO BID,\n",
       " 'bisoprolol': bisoprolol 1.25 mg PO BID}"
      ]
     },
     "execution_count": 142,
     "metadata": {},
     "output_type": "execute_result"
    }
   ],
   "source": [
    "beta_blocker_ladder.lowest_steps"
   ]
  },
  {
   "cell_type": "code",
   "execution_count": 143,
   "metadata": {},
   "outputs": [
    {
     "data": {
      "text/plain": [
       "{'metoprolol succinate': metoprolol succinate 100 mg PO daily,\n",
       " 'carvedilol': carvedilol 25 mg PO BID,\n",
       " 'bisoprolol': bisoprolol 10 mg PO BID}"
      ]
     },
     "execution_count": 143,
     "metadata": {},
     "output_type": "execute_result"
    }
   ],
   "source": [
    "beta_blocker_ladder.highest_steps"
   ]
  },
  {
   "cell_type": "code",
   "execution_count": 144,
   "metadata": {},
   "outputs": [
    {
     "data": {
      "text/plain": [
       "metoprolol succinate 25 mg PO daily"
      ]
     },
     "execution_count": 144,
     "metadata": {},
     "output_type": "execute_result"
    }
   ],
   "source": [
    "p = Patient(medications=[Medication(metoprolol_succinate, \"25 mg\", \"PO\", \"daily\")])\n",
    "beta_blocker_ladder.get_current_medication_for_patient(p)"
   ]
  },
  {
   "cell_type": "markdown",
   "metadata": {},
   "source": [
    "# Rules"
   ]
  },
  {
   "cell_type": "code",
   "execution_count": 145,
   "metadata": {},
   "outputs": [],
   "source": [
    "#|export\n",
    "import operator\n",
    "\n",
    "class Rule:\n",
    "    parameter : str\n",
    "    operation : str\n",
    "    threshold : Any\n",
    "\n",
    "    operators = {\n",
    "        \"gt\": operator.gt,\n",
    "        \"gte\": operator.ge,\n",
    "        \"lt\": operator.lt,\n",
    "        \"lte\": operator.le,\n",
    "        \"eq\": operator.eq,\n",
    "        \"neq\": operator.ne,\n",
    "        \"in\": operator.contains,\n",
    "    }\n",
    "\n",
    "    def __init__(self, parameter:str, operation:str, threshold:Any) -> None:\n",
    "        # assert parameter in VALID_PARAMETERS, \"Not a valid parameter\"\n",
    "        assert operation in self.operators, f\"Invalid operator {operation}\"\n",
    "        if operation == \"in\": print(f\"Warning: For 'in' operations, it is recommended to use kwargs explicitly.\")\n",
    "\n",
    "        self.parameter = parameter\n",
    "        self.operation = operation\n",
    "        self.threshold = threshold\n",
    "\n",
    "    def _is_satisfied(self, patient : Patient):\n",
    "        # FIXME: handle 'in' operation more neatly\n",
    "\n",
    "        patient_value = getattr(patient, self.parameter, None)  \n",
    "        if patient_value is None:  # FIXME: this should be reviewed again\n",
    "            if type(self.threshold) == bool: raise ValueError(f\"Patient has no attribute `{self.parameter}`.\")\n",
    "            else: return False\n",
    "\n",
    "        # if self.operation == \"in\": return self.operators[self.operation](self.threshold, patient_value)\n",
    "        # else:\n",
    "        return self.operators[self.operation](patient_value, self.threshold)\n",
    "\n",
    "    def _get_eval_result_object(self, is_satisfied : bool, patient : Optional[Patient] = None) -> Any:\n",
    "        return type('RuleEvalResult', (), {\n",
    "            'rule': self,\n",
    "            'is_satisfied': is_satisfied,\n",
    "        })\n",
    "\n",
    "    def evaluate(self, patient : Patient):\n",
    "        is_satisfied = self._is_satisfied(patient)\n",
    "        return self._get_eval_result_object(is_satisfied, patient)\n",
    "    \n",
    "    def __repr__(self) -> str:\n",
    "        return f\"{self.parameter} {self.operation} {self.threshold}\""
   ]
  },
  {
   "cell_type": "code",
   "execution_count": 146,
   "metadata": {},
   "outputs": [
    {
     "data": {
      "text/plain": [
       "False"
      ]
     },
     "execution_count": 146,
     "metadata": {},
     "output_type": "execute_result"
    }
   ],
   "source": [
    "r = Rule('SBP', 'lt', 100)\n",
    "eval_result = r.evaluate(Patient(SBP=100))\n",
    "eval_result.is_satisfied"
   ]
  },
  {
   "cell_type": "code",
   "execution_count": 147,
   "metadata": {},
   "outputs": [
    {
     "name": "stdout",
     "output_type": "stream",
     "text": [
      "Warning: For 'in' operations, it is recommended to use kwargs explicitly.\n"
     ]
    },
    {
     "data": {
      "text/plain": [
       "mappingproxy({'rule': current_med_class_names in Beta Blocker,\n",
       "              'is_satisfied': False,\n",
       "              '__module__': '__main__',\n",
       "              '__dict__': <attribute '__dict__' of 'RuleEvalResult' objects>,\n",
       "              '__weakref__': <attribute '__weakref__' of 'RuleEvalResult' objects>,\n",
       "              '__doc__': None})"
      ]
     },
     "execution_count": 147,
     "metadata": {},
     "output_type": "execute_result"
    }
   ],
   "source": [
    "on_beta_blocker = Rule(threshold='Beta Blocker', operation='in', parameter='current_med_class_names')\n",
    "\n",
    "# p = Patient(medications=[Medication(metoprolol_succinate, \"25 mg\", \"PO\", \"daily\")])\n",
    "p = Patient(medications=[])\n",
    "on_beta_blocker.evaluate(p).__dict__"
   ]
  },
  {
   "cell_type": "code",
   "execution_count": 148,
   "metadata": {},
   "outputs": [
    {
     "data": {
      "text/plain": [
       "{'name': 'metoprolol succinate',\n",
       " 'med_class': <titrations.basics.MedicationClass at 0x1042ad240>}"
      ]
     },
     "execution_count": 148,
     "metadata": {},
     "output_type": "execute_result"
    }
   ],
   "source": [
    "metoprolol_succinate.__dict__"
   ]
  },
  {
   "cell_type": "code",
   "execution_count": 149,
   "metadata": {},
   "outputs": [],
   "source": [
    "#|export\n",
    "\n",
    "class ConditionalRule(Rule):\n",
    "    condition : Rule\n",
    "\n",
    "    def __init__(self, parameter:str, operation:str, threshold:Any, condition:Rule) -> None:\n",
    "        super().__init__(parameter, operation, threshold)\n",
    "        self.condition = condition\n",
    "\n",
    "    def _condition_is_met(self, patient: Patient):\n",
    "        return self.condition.evaluate(patient).is_satisfied\n",
    "\n",
    "    def _is_satisfied(self, patient: Patient, condition_is_met: bool):\n",
    "        return super()._is_satisfied(patient) if condition_is_met else False\n",
    "\n",
    "    def evaluate(self, patient: Patient):\n",
    "        condition_is_met = self._condition_is_met(patient)\n",
    "        is_satisfied = self._is_satisfied(patient, condition_is_met)\n",
    "        return self._get_eval_result_object(is_satisfied, patient)\n"
   ]
  },
  {
   "cell_type": "code",
   "execution_count": 150,
   "metadata": {},
   "outputs": [],
   "source": [
    "no_pacemaker = Rule('has_pacemaker', 'eq', False)"
   ]
  },
  {
   "cell_type": "code",
   "execution_count": 151,
   "metadata": {},
   "outputs": [
    {
     "data": {
      "text/plain": [
       "True"
      ]
     },
     "execution_count": 151,
     "metadata": {},
     "output_type": "execute_result"
    }
   ],
   "source": [
    "p = Patient(HR=50, has_pacemaker=False)\n",
    "result = no_pacemaker.evaluate(p)\n",
    "result.is_satisfied"
   ]
  },
  {
   "cell_type": "code",
   "execution_count": 152,
   "metadata": {},
   "outputs": [
    {
     "data": {
      "text/plain": [
       "False"
      ]
     },
     "execution_count": 152,
     "metadata": {},
     "output_type": "execute_result"
    }
   ],
   "source": [
    "bradycardia = ConditionalRule('HR', 'lt', 60, condition=no_pacemaker)\n",
    "p = Patient(HR=80, has_pacemaker=False)\n",
    "bradycardia.evaluate(p).is_satisfied"
   ]
  },
  {
   "cell_type": "markdown",
   "metadata": {},
   "source": [
    "# Actions"
   ]
  },
  {
   "cell_type": "code",
   "execution_count": 153,
   "metadata": {},
   "outputs": [],
   "source": [
    "#|export\n",
    "\n",
    "class Action:\n",
    "    \"\"\"\n",
    "    This is a base class for 'Action' classes to build upon.\n",
    "    \"\"\"\n",
    "    def __init__(self,\n",
    "                 patient : Patient,\n",
    "                 dosing_ladder : DosingLadder,\n",
    "                 current_medication : Medication):\n",
    "        self.patient = patient\n",
    "        self.dosing_ladder = dosing_ladder\n",
    "        self.current_medication = current_medication\n",
    "\n",
    "    def suggest(self):\n",
    "        pass\n",
    "\n",
    "    def buttons(self):\n",
    "        pass\n",
    "\n",
    "    def perform(self):\n",
    "        pass"
   ]
  },
  {
   "cell_type": "code",
   "execution_count": 154,
   "metadata": {},
   "outputs": [],
   "source": [
    "#|export\n",
    "\n",
    "class Start(Action):\n",
    "    \"\"\"\n",
    "    Start a new medication.\n",
    "    \"\"\"\n",
    "    def __init__(self, patient: Patient, dosing_ladder: DosingLadder, current_medication: Medication):\n",
    "        super().__init__(patient, dosing_ladder, current_medication)\n",
    "        self.lowest_steps = self.dosing_ladder.lowest_steps\n",
    "\n",
    "    def suggest(self):\n",
    "        med_names = list(self.lowest_steps)\n",
    "        # TODO: this should only be done if the ladder has 3+ subladders\n",
    "        return f\"Start {', '.join([str(self.lowest_steps[med]) for med in med_names[:-1]])}, or {str(self.lowest_steps[med_names[-1]])}.\"\n",
    "\n",
    "    def buttons(self):\n",
    "        return [str(self.lowest_steps[med]) for med in self.lowest_steps]\n",
    "\n",
    "    def perform(self):\n",
    "        # TODO: implement this\n",
    "        pass"
   ]
  },
  {
   "cell_type": "code",
   "execution_count": 155,
   "metadata": {},
   "outputs": [
    {
     "data": {
      "text/plain": [
       "'Start metoprolol succinate 12.5 mg PO daily, carvedilol 3.125 mg PO BID, or bisoprolol 1.25 mg PO BID.'"
      ]
     },
     "execution_count": 155,
     "metadata": {},
     "output_type": "execute_result"
    }
   ],
   "source": [
    "a = Start(p, beta_blocker_ladder, \"\")\n",
    "a.suggest()"
   ]
  },
  {
   "cell_type": "code",
   "execution_count": 156,
   "metadata": {},
   "outputs": [
    {
     "data": {
      "text/plain": [
       "['metoprolol succinate 12.5 mg PO daily',\n",
       " 'carvedilol 3.125 mg PO BID',\n",
       " 'bisoprolol 1.25 mg PO BID']"
      ]
     },
     "execution_count": 156,
     "metadata": {},
     "output_type": "execute_result"
    }
   ],
   "source": [
    "a.buttons()"
   ]
  },
  {
   "cell_type": "code",
   "execution_count": 157,
   "metadata": {},
   "outputs": [],
   "source": [
    "#|export\n",
    "\n",
    "class DoNotStart(Action):\n",
    "    \"\"\"\n",
    "    Do not start a new medication.\n",
    "    \"\"\"\n",
    "    def suggest(self):\n",
    "        # TODO: modify to suggest not starting a class\n",
    "        pass\n",
    "\n",
    "    def perform(self):\n",
    "        pass"
   ]
  },
  {
   "cell_type": "code",
   "execution_count": 158,
   "metadata": {},
   "outputs": [],
   "source": [
    "#|export\n",
    "\n",
    "class StepUp(Action):\n",
    "    \"\"\"\n",
    "    Step up one dose on the dosing ladder.\n",
    "    \"\"\"\n",
    "    def suggest(self):\n",
    "        next_step_up = self.dosing_ladder.get_next_step_up(self.current_medication)\n",
    "        return f\"Increase {self.current_medication.name} to {str(next_step_up)}.\"\n",
    "\n",
    "    def perform(self):\n",
    "        pass"
   ]
  },
  {
   "cell_type": "code",
   "execution_count": 159,
   "metadata": {},
   "outputs": [],
   "source": [
    "#|export\n",
    "\n",
    "class StepDown(Action):\n",
    "    \"\"\"\n",
    "    Step down one dose on the dosing ladder.\n",
    "    \"\"\"\n",
    "    def suggest(self):\n",
    "        next_step_down = self.dosing_ladder.get_next_step_down(self.current_medication)\n",
    "        return f\"Decrease {self.current_medication.name} to {str(next_step_down)}.\"\n",
    "\n",
    "    def perform(self):\n",
    "        pass"
   ]
  },
  {
   "cell_type": "code",
   "execution_count": 160,
   "metadata": {},
   "outputs": [],
   "source": [
    "#|export\n",
    "\n",
    "class Continue(Action):\n",
    "    \"\"\"\n",
    "    Continue the medication at the same dose.\n",
    "    \"\"\"\n",
    "    def suggest(self):\n",
    "        return f\"Continue {str(self.current_medication)}.\"\n",
    "\n",
    "    def perform(self):\n",
    "        pass"
   ]
  },
  {
   "cell_type": "code",
   "execution_count": 161,
   "metadata": {},
   "outputs": [],
   "source": [
    "#|export\n",
    "\n",
    "class Stop(Action):\n",
    "    \"\"\"\n",
    "    Stop the medication.\n",
    "    \"\"\"\n",
    "    def suggest(self):\n",
    "        return f\"Stop {self.current_medication.name}.\"\n",
    "\n",
    "    def perform(self):\n",
    "        pass"
   ]
  },
  {
   "cell_type": "code",
   "execution_count": 162,
   "metadata": {},
   "outputs": [],
   "source": [
    "#|export\n",
    "\n",
    "class MarkMaxDose(Action):\n",
    "    \"\"\"\n",
    "    Mark current dose as maxiumum tolerated dose.\n",
    "    \"\"\"\n",
    "    def suggest(self):\n",
    "        return f\"Mark {str(self.current_medication)} as maximum tolerated dose.\"\n",
    "    \n",
    "    def perform(self):\n",
    "        pass"
   ]
  },
  {
   "cell_type": "code",
   "execution_count": 163,
   "metadata": {},
   "outputs": [],
   "source": [
    "#|export\n",
    "class ReportReaction(Action):\n",
    "    \"\"\"\n",
    "    File an adverse reaction record.\n",
    "    \"\"\"\n",
    "    def suggest(self):\n",
    "        return f\"File an adverse reaction to {self.current_medication.name}\"\n",
    "\n",
    "    def perform(self, description=\"reaction\"):\n",
    "        # In real life, this could be opening a modal for entering adverse reactions instead\n",
    "        self.patient.reactions.append(\n",
    "            Reaction(self.current_medication.ingredient, description),\n",
    "        )"
   ]
  },
  {
   "cell_type": "markdown",
   "metadata": {},
   "source": [
    "# Rules With Actions"
   ]
  },
  {
   "cell_type": "code",
   "execution_count": 164,
   "metadata": {},
   "outputs": [],
   "source": [
    "#|export\n",
    "\n",
    "class RuleWithActions(Rule):\n",
    "    actions_when_satisfied : List[Action] = []\n",
    "    actions_when_not_satisfied : List[Action] = []\n",
    "    default_actions_when_satisfied : List[Action] = []  # class attribute\n",
    "    default_actions_when_not_satisfied : List[Action] = []  # class attribute\n",
    "    \n",
    "    def __init__(self,\n",
    "                 parameter: str, operation: str, threshold: Any,\n",
    "                 additional_actions_when_satisfied: List[Action] = [],\n",
    "                 additional_actions_when_not_satisfied: List[Action] = []) -> None:\n",
    "        super().__init__(parameter, operation, threshold)\n",
    "        self.actions_when_satisfied = self.default_actions_when_satisfied + additional_actions_when_satisfied\n",
    "        self.actions_when_not_satisfied = self.default_actions_when_not_satisfied + additional_actions_when_not_satisfied\n",
    "\n",
    "    def _get_eval_result_object(self, is_satisfied: bool, patient: Patient) -> Any:\n",
    "        result = super()._get_eval_result_object(is_satisfied, patient)\n",
    "\n",
    "        recommended_actions = self.actions_when_satisfied if is_satisfied \\\n",
    "            else self.actions_when_not_satisfied\n",
    "        \n",
    "        # Recursively evaluate actions that are rules\n",
    "        for action in recommended_actions:\n",
    "            if isinstance(action, RuleWithActions):\n",
    "                action_result = action.evaluate(patient)\n",
    "                recommended_actions.remove(action)\n",
    "                recommended_actions += action_result.recommended_actions\n",
    "\n",
    "        result.recommended_actions = recommended_actions\n",
    "        return result\n",
    "\n",
    "class ConditionalRuleWithActions(ConditionalRule, RuleWithActions):\n",
    "    pass"
   ]
  },
  {
   "cell_type": "code",
   "execution_count": 165,
   "metadata": {},
   "outputs": [],
   "source": [
    "#|export\n",
    "class ClassLimitingRule(RuleWithActions):\n",
    "    default_actions_when_satisfied = [Stop, ReportReaction]\n",
    "\n",
    "class TitrationLimitingRule(RuleWithActions):\n",
    "    default_actions_when_satisfied = [Continue, StepDown, MarkMaxDose]\n",
    "\n",
    "class NonLimitingRule(RuleWithActions):\n",
    "    pass"
   ]
  },
  {
   "cell_type": "code",
   "execution_count": 166,
   "metadata": {},
   "outputs": [],
   "source": [
    "#|export\n",
    "class ConditionTitrationLimitingRule(ConditionalRule, TitrationLimitingRule):\n",
    "    def _get_eval_result_object(self, is_satisfied: bool, patient: Patient) -> Any:\n",
    "        # TODO: this is not a neat solution, will need to think of a better way\n",
    "        return TitrationLimitingRule._get_eval_result_object(self, is_satisfied, patient)"
   ]
  },
  {
   "cell_type": "code",
   "execution_count": 167,
   "metadata": {},
   "outputs": [],
   "source": [
    "no_pacemaker = Rule('has_pacemaker', 'eq', False)\n",
    "\n",
    "hypotension = TitrationLimitingRule('SBP', 'lt', 90)\n",
    "bradycardia = ConditionTitrationLimitingRule('HR' , 'lt', 60, condition=no_pacemaker)\n",
    "decompensation = TitrationLimitingRule('decompensated', 'eq', True)\n",
    "symptoms = TitrationLimitingRule('symptomatic', 'eq', True)\n",
    "av_block = TitrationLimitingRule('av_block', 'eq', True)"
   ]
  },
  {
   "cell_type": "code",
   "execution_count": 168,
   "metadata": {},
   "outputs": [
    {
     "data": {
      "text/plain": [
       "mappingproxy({'rule': HR lt 60,\n",
       "              'is_satisfied': True,\n",
       "              '__module__': '__main__',\n",
       "              '__dict__': <attribute '__dict__' of 'RuleEvalResult' objects>,\n",
       "              '__weakref__': <attribute '__weakref__' of 'RuleEvalResult' objects>,\n",
       "              '__doc__': None,\n",
       "              'recommended_actions': [__main__.Continue,\n",
       "               __main__.StepDown,\n",
       "               __main__.MarkMaxDose]})"
      ]
     },
     "execution_count": 168,
     "metadata": {},
     "output_type": "execute_result"
    }
   ],
   "source": [
    "p = Patient(HR=50, has_pacemaker=False)\n",
    "bradycardia.evaluate(p).__dict__"
   ]
  },
  {
   "cell_type": "code",
   "execution_count": 169,
   "metadata": {},
   "outputs": [
    {
     "data": {
      "text/plain": [
       "[__main__.Continue,\n",
       " __main__.StepDown,\n",
       " __main__.MarkMaxDose,\n",
       " __main__.Stop,\n",
       " __main__.ReportReaction]"
      ]
     },
     "execution_count": 169,
     "metadata": {},
     "output_type": "execute_result"
    }
   ],
   "source": [
    "severe_bradycardia = RuleWithActions('HR', 'lt', 40, [Stop, ReportReaction])\n",
    "bradycardia = RuleWithActions('HR', 'lt', 60, [severe_bradycardia, Continue, StepDown, MarkMaxDose])\n",
    "\n",
    "p = Patient(HR=30, has_pacemaker=False)\n",
    "\n",
    "eval_result = bradycardia.evaluate(p)\n",
    "recommended_actions = eval_result.recommended_actions\n",
    "recommended_actions"
   ]
  },
  {
   "cell_type": "code",
   "execution_count": 170,
   "metadata": {},
   "outputs": [
    {
     "data": {
      "text/plain": [
       "[__main__.Continue,\n",
       " __main__.StepDown,\n",
       " __main__.MarkMaxDose,\n",
       " __main__.Stop,\n",
       " __main__.ReportReaction,\n",
       " __main__.DoNotStart]"
      ]
     },
     "execution_count": 170,
     "metadata": {},
     "output_type": "execute_result"
    }
   ],
   "source": [
    "pre_arrest = RuleWithActions('HR', 'lt', 20, [DoNotStart])\n",
    "severe_bradycardia = RuleWithActions('HR', 'lt', 40, [pre_arrest, Stop, ReportReaction])\n",
    "bradycardia = RuleWithActions('HR', 'lt', 60, [severe_bradycardia, Continue, StepDown, MarkMaxDose])\n",
    "\n",
    "p = Patient(HR=10, has_pacemaker=False)\n",
    "\n",
    "eval_result = bradycardia.evaluate(p)\n",
    "recommended_actions = eval_result.recommended_actions\n",
    "recommended_actions"
   ]
  },
  {
   "cell_type": "markdown",
   "metadata": {},
   "source": [
    "## MaxTolerated"
   ]
  },
  {
   "cell_type": "code",
   "execution_count": null,
   "metadata": {},
   "outputs": [],
   "source": [
    "#|export\n",
    "class MaxTolerated(RuleWithActions):\n",
    "    actions_when_satisfied = [Continue]\n",
    "    def __init__(self, dosing_ladder : DosingLadder, current_medication : Optional[Medication] = None) -> None:\n",
    "        self.dosing_ladder = dosing_ladder\n",
    "        self.current_medication = current_medication\n",
    "\n",
    "    def _is_satisfied(self, patient: Patient):\n",
    "        if not self.current_medication: self.current_medication = self.dosing_ladder.get_current_medication_for_patient(patient)\n",
    "        if self.current_medication and self.current_medication.name in patient.max_tolerated:\n",
    "            return str(self.current_medication) == str(patient.max_tolerated[self.current_medication.name])\n",
    "        return False\n",
    "    \n",
    "    def __repr__(self) -> str:\n",
    "        return \"Max tolerated dose?\""
   ]
  },
  {
   "cell_type": "code",
   "execution_count": 172,
   "metadata": {},
   "outputs": [
    {
     "data": {
      "text/plain": [
       "mappingproxy({'rule': Max tolerated dose?,\n",
       "              'is_satisfied': True,\n",
       "              '__module__': '__main__',\n",
       "              '__dict__': <attribute '__dict__' of 'RuleEvalResult' objects>,\n",
       "              '__weakref__': <attribute '__weakref__' of 'RuleEvalResult' objects>,\n",
       "              '__doc__': None,\n",
       "              'recommended_actions': [__main__.Continue]})"
      ]
     },
     "execution_count": 172,
     "metadata": {},
     "output_type": "execute_result"
    }
   ],
   "source": [
    "p = Patient(medications=[Medication(metoprolol_succinate, \"25 mg\", \"PO\", \"daily\")], max_tolerated={\"metoprolol succinate\": Medication(metoprolol_succinate, \"25 mg\", \"PO\", \"daily\")})\n",
    "r = MaxTolerated(beta_blocker_ladder)\n",
    "r.evaluate(p).__dict__"
   ]
  },
  {
   "cell_type": "code",
   "execution_count": 173,
   "metadata": {},
   "outputs": [],
   "source": [
    "#|export\n",
    "htn_target = RuleWithActions('SBP', 'lt', 130, additional_actions_when_satisfied=[Continue])"
   ]
  },
  {
   "cell_type": "markdown",
   "metadata": {},
   "source": [
    "# Titrator"
   ]
  },
  {
   "cell_type": "code",
   "execution_count": 174,
   "metadata": {},
   "outputs": [],
   "source": [
    "#|export\n",
    "from inspect import isclass\n",
    "from itertools import chain\n",
    "\n",
    "class Titrator:\n",
    "    patient : Patient\n",
    "    dosing_ladder : DosingLadder\n",
    "\n",
    "    current_medication : Medication\n",
    "    \n",
    "    # class attributes\n",
    "    default_titration_target : type[Rule] | Rule\n",
    "    default_rules : List[RuleWithActions]\n",
    "    default_initiation_rules : List[RuleWithActions]\n",
    "    default_titration_rules : List[RuleWithActions]\n",
    "    default_initiation_actions : List[Action] = [Start]\n",
    "    default_titration_actions : List[Action] = [StepUp]\n",
    "    \n",
    "    # instance attributes\n",
    "    titration_target : Rule\n",
    "    rules : List[RuleWithActions]\n",
    "    initiation_rules : List[RuleWithActions]\n",
    "    titration_rules : List[RuleWithActions]\n",
    "    initiation_actions : List[Action]\n",
    "    titration_actions : List[Action]\n",
    "\n",
    "    can_advance : bool\n",
    "    satisfied_rules : List[Rule]\n",
    "    recommended_actions : List[Action]\n",
    "\n",
    "    def __init__(self, patient : Patient,\n",
    "                 dosing_ladder : Optional[DosingLadder] = None,\n",
    "                 titration_target : type[Rule] | Rule = MaxTolerated) -> None:\n",
    "        self.patient = patient\n",
    "\n",
    "        if dosing_ladder: self.dosing_ladder = dosing_ladder\n",
    "        else: assert hasattr(self, 'dosing_ladder'), \"Dosing ladder must be specified.\"\n",
    "\n",
    "        self.current_medication = self.dosing_ladder.get_current_medication_for_patient(patient)\n",
    "\n",
    "        if isclass(titration_target):\n",
    "            self.titration_target = titration_target(self.dosing_ladder, self.current_medication)\n",
    "        else:\n",
    "            self.titration_target = titration_target\n",
    "\n",
    "        # TODO: assert hasattr(self, 'titration_target')\n",
    "        # assert hasattr(self, 'default_rules') or (hasattr(self, 'default_initiation_rules') and \\\n",
    "        #        hasattr(self, 'default_titration_rules')), \"Rules must be specified.\"\n",
    "        \n",
    "        self.rules = self.default_rules + [self.titration_target]\n",
    "\n",
    "        self.initiation_actions = self.default_initiation_actions  # TODO: allow override\n",
    "        self.titration_actions = self.default_titration_actions  # TODO: allow override\n",
    "\n",
    "    @property\n",
    "    def current_ingredient(self) -> Ingredient:\n",
    "        return self.current_medication.ingredient if self.current_medication else None\n",
    "\n",
    "    @property\n",
    "    def is_initiating(self) -> bool:\n",
    "        return self.current_medication == None\n",
    "\n",
    "    @property\n",
    "    def is_titrating(self) -> bool:\n",
    "        return not self.is_initiating\n",
    "    \n",
    "    def evaluate(self) -> None:\n",
    "        self._rule_results = map(lambda rule: rule.evaluate(self.patient), self.rules)\n",
    "        self._results_satisfied = list(filter(lambda result: result.is_satisfied, self._rule_results))\n",
    "        self.satisfied_rules = list(map(lambda result: result.rule, self._results_satisfied))\n",
    "        \n",
    "        self.can_advance = len(self.satisfied_rules) == 0\n",
    "\n",
    "        if self.can_advance:\n",
    "            if self. is_initiating:\n",
    "                self.recommended_actions = [action(self.patient, self.dosing_ladder, self.current_medication) for action in self.initiation_actions]\n",
    "            else:\n",
    "                self.recommended_actions = [action(self.patient, self.dosing_ladder, self.current_medication) for action in self.titration_actions]\n",
    "        else:\n",
    "            action_lists = [result.recommended_actions for result in self._results_satisfied]\n",
    "            self.recommended_actions = [action(\n",
    "                self.patient, self.dosing_ladder, self.current_medication\n",
    "                ) for action in set(chain.from_iterable(action_lists))]\n",
    "\n"
   ]
  },
  {
   "cell_type": "code",
   "execution_count": 175,
   "metadata": {},
   "outputs": [],
   "source": [
    "class BetaBlockerTitrator(Titrator):\n",
    "    dosing_ladder = beta_blocker_ladder\n",
    "    default_rules = [\n",
    "        hypotension,\n",
    "        bradycardia,\n",
    "        decompensation,\n",
    "        symptoms,\n",
    "        av_block,\n",
    "    ]"
   ]
  },
  {
   "cell_type": "code",
   "execution_count": 176,
   "metadata": {},
   "outputs": [],
   "source": [
    "p1 = Patient(SBP=130, HR=70, has_pacemaker=False, decompensated=False, symptomatic=False, av_block=True)\n",
    "t1 = BetaBlockerTitrator(p)"
   ]
  },
  {
   "cell_type": "code",
   "execution_count": 177,
   "metadata": {},
   "outputs": [],
   "source": [
    "p2 = Patient(SBP=120, HR=70, has_pacemaker=False, decompensated=False, symptomatic=False, av_block=False,\n",
    "            medications=[Medication(metoprolol_succinate, \"25 mg\", \"PO\", \"daily\")],\n",
    "            max_tolerated={\"metoprolol succinate\": Medication(metoprolol_succinate, \"25 mg\", \"PO\", \"daily\")})\n",
    "t2 = BetaBlockerTitrator(p)"
   ]
  },
  {
   "cell_type": "code",
   "execution_count": 178,
   "metadata": {},
   "outputs": [],
   "source": [
    "p3 = Patient(SBP=160, HR=70, has_pacemaker=False, decompensated=False, symptomatic=False, av_block=False,\n",
    "            medications=[Medication(metoprolol_succinate, \"25 mg\", \"PO\", \"daily\")],\n",
    "            max_tolerated={\"metoprolol succinate\": Medication(metoprolol_succinate, \"25 mg\", \"PO\", \"daily\")})\n",
    "t3 = BetaBlockerTitrator(p3, titration_target=htn_target)\n",
    "# t3.rules.append(MaxTolerated(beta_blocker_ladder))"
   ]
  },
  {
   "cell_type": "code",
   "execution_count": 179,
   "metadata": {},
   "outputs": [],
   "source": [
    "t3.evaluate()"
   ]
  },
  {
   "cell_type": "code",
   "execution_count": 180,
   "metadata": {},
   "outputs": [
    {
     "data": {
      "text/plain": [
       "True"
      ]
     },
     "execution_count": 180,
     "metadata": {},
     "output_type": "execute_result"
    }
   ],
   "source": [
    "t3.can_advance"
   ]
  },
  {
   "cell_type": "code",
   "execution_count": 181,
   "metadata": {},
   "outputs": [
    {
     "data": {
      "text/plain": [
       "[SBP lt 90,\n",
       " HR lt 60,\n",
       " decompensated eq True,\n",
       " symptomatic eq True,\n",
       " av_block eq True,\n",
       " SBP lt 130]"
      ]
     },
     "execution_count": 181,
     "metadata": {},
     "output_type": "execute_result"
    }
   ],
   "source": [
    "t3.rules"
   ]
  },
  {
   "cell_type": "code",
   "execution_count": 182,
   "metadata": {},
   "outputs": [
    {
     "data": {
      "text/plain": [
       "SBP lt 130"
      ]
     },
     "execution_count": 182,
     "metadata": {},
     "output_type": "execute_result"
    }
   ],
   "source": [
    "t3.titration_target"
   ]
  },
  {
   "cell_type": "code",
   "execution_count": 183,
   "metadata": {},
   "outputs": [
    {
     "data": {
      "text/plain": [
       "[]"
      ]
     },
     "execution_count": 183,
     "metadata": {},
     "output_type": "execute_result"
    }
   ],
   "source": [
    "t3.satisfied_rules"
   ]
  },
  {
   "cell_type": "code",
   "execution_count": 184,
   "metadata": {},
   "outputs": [
    {
     "data": {
      "text/plain": [
       "[<__main__.StepUp at 0x104786500>]"
      ]
     },
     "execution_count": 184,
     "metadata": {},
     "output_type": "execute_result"
    }
   ],
   "source": [
    "t3.recommended_actions"
   ]
  },
  {
   "cell_type": "markdown",
   "metadata": {},
   "source": [
    "# Export"
   ]
  },
  {
   "cell_type": "code",
   "execution_count": 3,
   "metadata": {},
   "outputs": [],
   "source": [
    "from nbdev.export import nb_export\n",
    "\n",
    "nb_export('titrations2.ipynb')"
   ]
  }
 ],
 "metadata": {
  "kernelspec": {
   "display_name": "base",
   "language": "python",
   "name": "python3"
  },
  "language_info": {
   "codemirror_mode": {
    "name": "ipython",
    "version": 3
   },
   "file_extension": ".py",
   "mimetype": "text/x-python",
   "name": "python",
   "nbconvert_exporter": "python",
   "pygments_lexer": "ipython3",
   "version": "3.10.13"
  }
 },
 "nbformat": 4,
 "nbformat_minor": 2
}
